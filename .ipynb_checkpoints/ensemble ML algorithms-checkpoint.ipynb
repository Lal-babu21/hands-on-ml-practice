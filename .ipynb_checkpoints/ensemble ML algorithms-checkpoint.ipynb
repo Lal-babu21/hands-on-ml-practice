{
 "cells": [
  {
   "cell_type": "code",
   "execution_count": 1,
   "metadata": {},
   "outputs": [],
   "source": [
    "import numpy as np\n",
    "import pandas as pd\n",
    "import matplotlib.pyplot as plt\n",
    "%matplotlib inline\n",
    "\n",
    "import seaborn as sns\n",
    "\n",
    "import warnings\n",
    "warnings.filterwarnings('ignore')"
   ]
  },
  {
   "cell_type": "code",
   "execution_count": 2,
   "metadata": {},
   "outputs": [
    {
     "name": "stdout",
     "output_type": "stream",
     "text": [
      "Train data imported successfully\n",
      "Test data imported successfully\n"
     ]
    }
   ],
   "source": [
    "# reading the data\n",
    "\n",
    "def read_data():\n",
    "    train_data = pd.read_csv(\"dataset\\\\train.csv\")\n",
    "    print(\"Train data imported successfully\")\n",
    "    test_data = pd.read_csv(\"dataset\\\\test.csv\")\n",
    "    print(\"Test data imported successfully\")\n",
    "    \n",
    "    return train_data, test_data\n",
    "\n",
    "\n",
    "train_data, test_data = read_data()\n",
    "\n",
    "combine = [train_data, test_data]"
   ]
  },
  {
   "cell_type": "markdown",
   "metadata": {},
   "source": [
    "## Discovering the data"
   ]
  },
  {
   "cell_type": "code",
   "execution_count": 3,
   "metadata": {},
   "outputs": [
    {
     "data": {
      "text/html": [
       "<div>\n",
       "<style scoped>\n",
       "    .dataframe tbody tr th:only-of-type {\n",
       "        vertical-align: middle;\n",
       "    }\n",
       "\n",
       "    .dataframe tbody tr th {\n",
       "        vertical-align: top;\n",
       "    }\n",
       "\n",
       "    .dataframe thead th {\n",
       "        text-align: right;\n",
       "    }\n",
       "</style>\n",
       "<table border=\"1\" class=\"dataframe\">\n",
       "  <thead>\n",
       "    <tr style=\"text-align: right;\">\n",
       "      <th></th>\n",
       "      <th>PassengerId</th>\n",
       "      <th>Survived</th>\n",
       "      <th>Pclass</th>\n",
       "      <th>Name</th>\n",
       "      <th>Sex</th>\n",
       "      <th>Age</th>\n",
       "      <th>SibSp</th>\n",
       "      <th>Parch</th>\n",
       "      <th>Ticket</th>\n",
       "      <th>Fare</th>\n",
       "      <th>Cabin</th>\n",
       "      <th>Embarked</th>\n",
       "    </tr>\n",
       "  </thead>\n",
       "  <tbody>\n",
       "    <tr>\n",
       "      <th>0</th>\n",
       "      <td>1</td>\n",
       "      <td>0</td>\n",
       "      <td>3</td>\n",
       "      <td>Braund, Mr. Owen Harris</td>\n",
       "      <td>male</td>\n",
       "      <td>22.0</td>\n",
       "      <td>1</td>\n",
       "      <td>0</td>\n",
       "      <td>A/5 21171</td>\n",
       "      <td>7.2500</td>\n",
       "      <td>NaN</td>\n",
       "      <td>S</td>\n",
       "    </tr>\n",
       "    <tr>\n",
       "      <th>1</th>\n",
       "      <td>2</td>\n",
       "      <td>1</td>\n",
       "      <td>1</td>\n",
       "      <td>Cumings, Mrs. John Bradley (Florence Briggs Th...</td>\n",
       "      <td>female</td>\n",
       "      <td>38.0</td>\n",
       "      <td>1</td>\n",
       "      <td>0</td>\n",
       "      <td>PC 17599</td>\n",
       "      <td>71.2833</td>\n",
       "      <td>C85</td>\n",
       "      <td>C</td>\n",
       "    </tr>\n",
       "    <tr>\n",
       "      <th>2</th>\n",
       "      <td>3</td>\n",
       "      <td>1</td>\n",
       "      <td>3</td>\n",
       "      <td>Heikkinen, Miss. Laina</td>\n",
       "      <td>female</td>\n",
       "      <td>26.0</td>\n",
       "      <td>0</td>\n",
       "      <td>0</td>\n",
       "      <td>STON/O2. 3101282</td>\n",
       "      <td>7.9250</td>\n",
       "      <td>NaN</td>\n",
       "      <td>S</td>\n",
       "    </tr>\n",
       "    <tr>\n",
       "      <th>3</th>\n",
       "      <td>4</td>\n",
       "      <td>1</td>\n",
       "      <td>1</td>\n",
       "      <td>Futrelle, Mrs. Jacques Heath (Lily May Peel)</td>\n",
       "      <td>female</td>\n",
       "      <td>35.0</td>\n",
       "      <td>1</td>\n",
       "      <td>0</td>\n",
       "      <td>113803</td>\n",
       "      <td>53.1000</td>\n",
       "      <td>C123</td>\n",
       "      <td>S</td>\n",
       "    </tr>\n",
       "    <tr>\n",
       "      <th>4</th>\n",
       "      <td>5</td>\n",
       "      <td>0</td>\n",
       "      <td>3</td>\n",
       "      <td>Allen, Mr. William Henry</td>\n",
       "      <td>male</td>\n",
       "      <td>35.0</td>\n",
       "      <td>0</td>\n",
       "      <td>0</td>\n",
       "      <td>373450</td>\n",
       "      <td>8.0500</td>\n",
       "      <td>NaN</td>\n",
       "      <td>S</td>\n",
       "    </tr>\n",
       "  </tbody>\n",
       "</table>\n",
       "</div>"
      ],
      "text/plain": [
       "   PassengerId  Survived  Pclass  \\\n",
       "0            1         0       3   \n",
       "1            2         1       1   \n",
       "2            3         1       3   \n",
       "3            4         1       1   \n",
       "4            5         0       3   \n",
       "\n",
       "                                                Name     Sex   Age  SibSp  \\\n",
       "0                            Braund, Mr. Owen Harris    male  22.0      1   \n",
       "1  Cumings, Mrs. John Bradley (Florence Briggs Th...  female  38.0      1   \n",
       "2                             Heikkinen, Miss. Laina  female  26.0      0   \n",
       "3       Futrelle, Mrs. Jacques Heath (Lily May Peel)  female  35.0      1   \n",
       "4                           Allen, Mr. William Henry    male  35.0      0   \n",
       "\n",
       "   Parch            Ticket     Fare Cabin Embarked  \n",
       "0      0         A/5 21171   7.2500   NaN        S  \n",
       "1      0          PC 17599  71.2833   C85        C  \n",
       "2      0  STON/O2. 3101282   7.9250   NaN        S  \n",
       "3      0            113803  53.1000  C123        S  \n",
       "4      0            373450   8.0500   NaN        S  "
      ]
     },
     "execution_count": 3,
     "metadata": {},
     "output_type": "execute_result"
    }
   ],
   "source": [
    "train_data.head()"
   ]
  },
  {
   "cell_type": "code",
   "execution_count": 4,
   "metadata": {},
   "outputs": [
    {
     "data": {
      "text/html": [
       "<div>\n",
       "<style scoped>\n",
       "    .dataframe tbody tr th:only-of-type {\n",
       "        vertical-align: middle;\n",
       "    }\n",
       "\n",
       "    .dataframe tbody tr th {\n",
       "        vertical-align: top;\n",
       "    }\n",
       "\n",
       "    .dataframe thead th {\n",
       "        text-align: right;\n",
       "    }\n",
       "</style>\n",
       "<table border=\"1\" class=\"dataframe\">\n",
       "  <thead>\n",
       "    <tr style=\"text-align: right;\">\n",
       "      <th></th>\n",
       "      <th>PassengerId</th>\n",
       "      <th>Pclass</th>\n",
       "      <th>Name</th>\n",
       "      <th>Sex</th>\n",
       "      <th>Age</th>\n",
       "      <th>SibSp</th>\n",
       "      <th>Parch</th>\n",
       "      <th>Ticket</th>\n",
       "      <th>Fare</th>\n",
       "      <th>Cabin</th>\n",
       "      <th>Embarked</th>\n",
       "    </tr>\n",
       "  </thead>\n",
       "  <tbody>\n",
       "    <tr>\n",
       "      <th>0</th>\n",
       "      <td>892</td>\n",
       "      <td>3</td>\n",
       "      <td>Kelly, Mr. James</td>\n",
       "      <td>male</td>\n",
       "      <td>34.5</td>\n",
       "      <td>0</td>\n",
       "      <td>0</td>\n",
       "      <td>330911</td>\n",
       "      <td>7.8292</td>\n",
       "      <td>NaN</td>\n",
       "      <td>Q</td>\n",
       "    </tr>\n",
       "    <tr>\n",
       "      <th>1</th>\n",
       "      <td>893</td>\n",
       "      <td>3</td>\n",
       "      <td>Wilkes, Mrs. James (Ellen Needs)</td>\n",
       "      <td>female</td>\n",
       "      <td>47.0</td>\n",
       "      <td>1</td>\n",
       "      <td>0</td>\n",
       "      <td>363272</td>\n",
       "      <td>7.0000</td>\n",
       "      <td>NaN</td>\n",
       "      <td>S</td>\n",
       "    </tr>\n",
       "    <tr>\n",
       "      <th>2</th>\n",
       "      <td>894</td>\n",
       "      <td>2</td>\n",
       "      <td>Myles, Mr. Thomas Francis</td>\n",
       "      <td>male</td>\n",
       "      <td>62.0</td>\n",
       "      <td>0</td>\n",
       "      <td>0</td>\n",
       "      <td>240276</td>\n",
       "      <td>9.6875</td>\n",
       "      <td>NaN</td>\n",
       "      <td>Q</td>\n",
       "    </tr>\n",
       "    <tr>\n",
       "      <th>3</th>\n",
       "      <td>895</td>\n",
       "      <td>3</td>\n",
       "      <td>Wirz, Mr. Albert</td>\n",
       "      <td>male</td>\n",
       "      <td>27.0</td>\n",
       "      <td>0</td>\n",
       "      <td>0</td>\n",
       "      <td>315154</td>\n",
       "      <td>8.6625</td>\n",
       "      <td>NaN</td>\n",
       "      <td>S</td>\n",
       "    </tr>\n",
       "    <tr>\n",
       "      <th>4</th>\n",
       "      <td>896</td>\n",
       "      <td>3</td>\n",
       "      <td>Hirvonen, Mrs. Alexander (Helga E Lindqvist)</td>\n",
       "      <td>female</td>\n",
       "      <td>22.0</td>\n",
       "      <td>1</td>\n",
       "      <td>1</td>\n",
       "      <td>3101298</td>\n",
       "      <td>12.2875</td>\n",
       "      <td>NaN</td>\n",
       "      <td>S</td>\n",
       "    </tr>\n",
       "  </tbody>\n",
       "</table>\n",
       "</div>"
      ],
      "text/plain": [
       "   PassengerId  Pclass                                          Name     Sex  \\\n",
       "0          892       3                              Kelly, Mr. James    male   \n",
       "1          893       3              Wilkes, Mrs. James (Ellen Needs)  female   \n",
       "2          894       2                     Myles, Mr. Thomas Francis    male   \n",
       "3          895       3                              Wirz, Mr. Albert    male   \n",
       "4          896       3  Hirvonen, Mrs. Alexander (Helga E Lindqvist)  female   \n",
       "\n",
       "    Age  SibSp  Parch   Ticket     Fare Cabin Embarked  \n",
       "0  34.5      0      0   330911   7.8292   NaN        Q  \n",
       "1  47.0      1      0   363272   7.0000   NaN        S  \n",
       "2  62.0      0      0   240276   9.6875   NaN        Q  \n",
       "3  27.0      0      0   315154   8.6625   NaN        S  \n",
       "4  22.0      1      1  3101298  12.2875   NaN        S  "
      ]
     },
     "execution_count": 4,
     "metadata": {},
     "output_type": "execute_result"
    }
   ],
   "source": [
    "test_data.head()"
   ]
  },
  {
   "cell_type": "code",
   "execution_count": 5,
   "metadata": {},
   "outputs": [
    {
     "name": "stdout",
     "output_type": "stream",
     "text": [
      "Train data features are : \n",
      "\n",
      "['PassengerId' 'Survived' 'Pclass' 'Name' 'Sex' 'Age' 'SibSp' 'Parch'\n",
      " 'Ticket' 'Fare' 'Cabin' 'Embarked']\n",
      "\n",
      " ================================================================================ \n",
      "\n",
      "Test data features are : \n",
      "\n",
      "['PassengerId' 'Pclass' 'Name' 'Sex' 'Age' 'SibSp' 'Parch' 'Ticket' 'Fare'\n",
      " 'Cabin' 'Embarked']\n"
     ]
    }
   ],
   "source": [
    "# Discovering features\n",
    "\n",
    "print(\"Train data features are : \\n\")\n",
    "print(train_data.columns.values)\n",
    "print(\"\\n\",\"=\"*80, \"\\n\")\n",
    "print(\"Test data features are : \\n\")\n",
    "print(test_data.columns.values)"
   ]
  },
  {
   "cell_type": "code",
   "execution_count": 6,
   "metadata": {},
   "outputs": [
    {
     "name": "stdout",
     "output_type": "stream",
     "text": [
      "<class 'pandas.core.frame.DataFrame'>\n",
      "RangeIndex: 891 entries, 0 to 890\n",
      "Data columns (total 12 columns):\n",
      " #   Column       Non-Null Count  Dtype  \n",
      "---  ------       --------------  -----  \n",
      " 0   PassengerId  891 non-null    int64  \n",
      " 1   Survived     891 non-null    int64  \n",
      " 2   Pclass       891 non-null    int64  \n",
      " 3   Name         891 non-null    object \n",
      " 4   Sex          891 non-null    object \n",
      " 5   Age          714 non-null    float64\n",
      " 6   SibSp        891 non-null    int64  \n",
      " 7   Parch        891 non-null    int64  \n",
      " 8   Ticket       891 non-null    object \n",
      " 9   Fare         891 non-null    float64\n",
      " 10  Cabin        204 non-null    object \n",
      " 11  Embarked     889 non-null    object \n",
      "dtypes: float64(2), int64(5), object(5)\n",
      "memory usage: 83.7+ KB\n",
      "\n",
      " ________________________________________ \n",
      "\n",
      "<class 'pandas.core.frame.DataFrame'>\n",
      "RangeIndex: 418 entries, 0 to 417\n",
      "Data columns (total 11 columns):\n",
      " #   Column       Non-Null Count  Dtype  \n",
      "---  ------       --------------  -----  \n",
      " 0   PassengerId  418 non-null    int64  \n",
      " 1   Pclass       418 non-null    int64  \n",
      " 2   Name         418 non-null    object \n",
      " 3   Sex          418 non-null    object \n",
      " 4   Age          332 non-null    float64\n",
      " 5   SibSp        418 non-null    int64  \n",
      " 6   Parch        418 non-null    int64  \n",
      " 7   Ticket       418 non-null    object \n",
      " 8   Fare         417 non-null    float64\n",
      " 9   Cabin        91 non-null     object \n",
      " 10  Embarked     418 non-null    object \n",
      "dtypes: float64(2), int64(4), object(5)\n",
      "memory usage: 36.0+ KB\n"
     ]
    }
   ],
   "source": [
    "# Discovering the features types\n",
    "\n",
    "train_data.info()\n",
    "print('\\n', '_'*40, '\\n')\n",
    "\n",
    "test_data.info()"
   ]
  },
  {
   "cell_type": "code",
   "execution_count": null,
   "metadata": {},
   "outputs": [],
   "source": []
  },
  {
   "cell_type": "code",
   "execution_count": 7,
   "metadata": {},
   "outputs": [
    {
     "name": "stdout",
     "output_type": "stream",
     "text": [
      "PassengerId      0\n",
      "Survived         0\n",
      "Pclass           0\n",
      "Name             0\n",
      "Sex              0\n",
      "Age            177\n",
      "SibSp            0\n",
      "Parch            0\n",
      "Ticket           0\n",
      "Fare             0\n",
      "Cabin          687\n",
      "Embarked         2\n",
      "dtype: int64\n",
      "\n",
      " ________________________________________ \n",
      "\n",
      "PassengerId      0\n",
      "Pclass           0\n",
      "Name             0\n",
      "Sex              0\n",
      "Age             86\n",
      "SibSp            0\n",
      "Parch            0\n",
      "Ticket           0\n",
      "Fare             1\n",
      "Cabin          327\n",
      "Embarked         0\n",
      "dtype: int64\n"
     ]
    }
   ],
   "source": [
    "# Discovering the missing values\n",
    "\n",
    "print(train_data.isnull().sum())\n",
    "\n",
    "print(\"\\n\", '_'*40, '\\n')\n",
    "\n",
    "print(test_data.isnull().sum())"
   ]
  },
  {
   "cell_type": "code",
   "execution_count": 8,
   "metadata": {},
   "outputs": [
    {
     "name": "stdout",
     "output_type": "stream",
     "text": [
      "PassengerId     0.000000\n",
      "Survived        0.000000\n",
      "Pclass          0.000000\n",
      "Name            0.000000\n",
      "Sex             0.000000\n",
      "Age            19.865320\n",
      "SibSp           0.000000\n",
      "Parch           0.000000\n",
      "Ticket          0.000000\n",
      "Fare            0.000000\n",
      "Cabin          77.104377\n",
      "Embarked        0.224467\n",
      "dtype: float64\n",
      "\n",
      " ________________________________________ \n",
      "\n",
      "PassengerId     0.000000\n",
      "Pclass          0.000000\n",
      "Name            0.000000\n",
      "Sex             0.000000\n",
      "Age            20.574163\n",
      "SibSp           0.000000\n",
      "Parch           0.000000\n",
      "Ticket          0.000000\n",
      "Fare            0.239234\n",
      "Cabin          78.229665\n",
      "Embarked        0.000000\n",
      "dtype: float64\n"
     ]
    }
   ],
   "source": [
    "# Discovering the percentage(%) of missing values\n",
    "\n",
    "print(train_data.isna().sum()/train_data.PassengerId.count()*100)\n",
    "\n",
    "print(\"\\n\", '_'*40, '\\n')\n",
    "\n",
    "print(test_data.isna().sum()/test_data.PassengerId.count()*100)"
   ]
  },
  {
   "cell_type": "code",
   "execution_count": 9,
   "metadata": {},
   "outputs": [
    {
     "data": {
      "text/html": [
       "<div>\n",
       "<style scoped>\n",
       "    .dataframe tbody tr th:only-of-type {\n",
       "        vertical-align: middle;\n",
       "    }\n",
       "\n",
       "    .dataframe tbody tr th {\n",
       "        vertical-align: top;\n",
       "    }\n",
       "\n",
       "    .dataframe thead th {\n",
       "        text-align: right;\n",
       "    }\n",
       "</style>\n",
       "<table border=\"1\" class=\"dataframe\">\n",
       "  <thead>\n",
       "    <tr style=\"text-align: right;\">\n",
       "      <th></th>\n",
       "      <th>PassengerId</th>\n",
       "      <th>Survived</th>\n",
       "      <th>Pclass</th>\n",
       "      <th>Age</th>\n",
       "      <th>SibSp</th>\n",
       "      <th>Parch</th>\n",
       "      <th>Fare</th>\n",
       "    </tr>\n",
       "  </thead>\n",
       "  <tbody>\n",
       "    <tr>\n",
       "      <th>count</th>\n",
       "      <td>891.000000</td>\n",
       "      <td>891.000000</td>\n",
       "      <td>891.000000</td>\n",
       "      <td>714.000000</td>\n",
       "      <td>891.000000</td>\n",
       "      <td>891.000000</td>\n",
       "      <td>891.000000</td>\n",
       "    </tr>\n",
       "    <tr>\n",
       "      <th>mean</th>\n",
       "      <td>446.000000</td>\n",
       "      <td>0.383838</td>\n",
       "      <td>2.308642</td>\n",
       "      <td>29.699118</td>\n",
       "      <td>0.523008</td>\n",
       "      <td>0.381594</td>\n",
       "      <td>32.204208</td>\n",
       "    </tr>\n",
       "    <tr>\n",
       "      <th>std</th>\n",
       "      <td>257.353842</td>\n",
       "      <td>0.486592</td>\n",
       "      <td>0.836071</td>\n",
       "      <td>14.526497</td>\n",
       "      <td>1.102743</td>\n",
       "      <td>0.806057</td>\n",
       "      <td>49.693429</td>\n",
       "    </tr>\n",
       "    <tr>\n",
       "      <th>min</th>\n",
       "      <td>1.000000</td>\n",
       "      <td>0.000000</td>\n",
       "      <td>1.000000</td>\n",
       "      <td>0.420000</td>\n",
       "      <td>0.000000</td>\n",
       "      <td>0.000000</td>\n",
       "      <td>0.000000</td>\n",
       "    </tr>\n",
       "    <tr>\n",
       "      <th>25%</th>\n",
       "      <td>223.500000</td>\n",
       "      <td>0.000000</td>\n",
       "      <td>2.000000</td>\n",
       "      <td>20.125000</td>\n",
       "      <td>0.000000</td>\n",
       "      <td>0.000000</td>\n",
       "      <td>7.910400</td>\n",
       "    </tr>\n",
       "    <tr>\n",
       "      <th>50%</th>\n",
       "      <td>446.000000</td>\n",
       "      <td>0.000000</td>\n",
       "      <td>3.000000</td>\n",
       "      <td>28.000000</td>\n",
       "      <td>0.000000</td>\n",
       "      <td>0.000000</td>\n",
       "      <td>14.454200</td>\n",
       "    </tr>\n",
       "    <tr>\n",
       "      <th>75%</th>\n",
       "      <td>668.500000</td>\n",
       "      <td>1.000000</td>\n",
       "      <td>3.000000</td>\n",
       "      <td>38.000000</td>\n",
       "      <td>1.000000</td>\n",
       "      <td>0.000000</td>\n",
       "      <td>31.000000</td>\n",
       "    </tr>\n",
       "    <tr>\n",
       "      <th>max</th>\n",
       "      <td>891.000000</td>\n",
       "      <td>1.000000</td>\n",
       "      <td>3.000000</td>\n",
       "      <td>80.000000</td>\n",
       "      <td>8.000000</td>\n",
       "      <td>6.000000</td>\n",
       "      <td>512.329200</td>\n",
       "    </tr>\n",
       "  </tbody>\n",
       "</table>\n",
       "</div>"
      ],
      "text/plain": [
       "       PassengerId    Survived      Pclass         Age       SibSp  \\\n",
       "count   891.000000  891.000000  891.000000  714.000000  891.000000   \n",
       "mean    446.000000    0.383838    2.308642   29.699118    0.523008   \n",
       "std     257.353842    0.486592    0.836071   14.526497    1.102743   \n",
       "min       1.000000    0.000000    1.000000    0.420000    0.000000   \n",
       "25%     223.500000    0.000000    2.000000   20.125000    0.000000   \n",
       "50%     446.000000    0.000000    3.000000   28.000000    0.000000   \n",
       "75%     668.500000    1.000000    3.000000   38.000000    1.000000   \n",
       "max     891.000000    1.000000    3.000000   80.000000    8.000000   \n",
       "\n",
       "            Parch        Fare  \n",
       "count  891.000000  891.000000  \n",
       "mean     0.381594   32.204208  \n",
       "std      0.806057   49.693429  \n",
       "min      0.000000    0.000000  \n",
       "25%      0.000000    7.910400  \n",
       "50%      0.000000   14.454200  \n",
       "75%      0.000000   31.000000  \n",
       "max      6.000000  512.329200  "
      ]
     },
     "execution_count": 9,
     "metadata": {},
     "output_type": "execute_result"
    }
   ],
   "source": [
    "# discovering the numerical data distribution\n",
    "\n",
    "train_data.describe()"
   ]
  },
  {
   "cell_type": "markdown",
   "metadata": {},
   "source": [
    "## Numerical data distribution discovering results: **\n",
    "\n",
    "  *  The survival rate for this data is 38.3%.\n",
    "   *  More than 75% of the passengers are below 38 years old.\n",
    "   *   There are too few old passengers.\n",
    "   *   Most passengers travel alone.\n",
    "   *   There are a few outliers in the Fare feature."
   ]
  },
  {
   "cell_type": "markdown",
   "metadata": {},
   "source": [
    " *  insights:\n",
    "\n",
    "  *  Age feature has right skewness, So if we are going to fill missing values we will not use the average.\n",
    "   *   There are outliers in Fare, Age, SibSp and Parch features. This inspire us for EDA Step."
   ]
  },
  {
   "cell_type": "code",
   "execution_count": 10,
   "metadata": {},
   "outputs": [
    {
     "data": {
      "text/html": [
       "<div>\n",
       "<style scoped>\n",
       "    .dataframe tbody tr th:only-of-type {\n",
       "        vertical-align: middle;\n",
       "    }\n",
       "\n",
       "    .dataframe tbody tr th {\n",
       "        vertical-align: top;\n",
       "    }\n",
       "\n",
       "    .dataframe thead th {\n",
       "        text-align: right;\n",
       "    }\n",
       "</style>\n",
       "<table border=\"1\" class=\"dataframe\">\n",
       "  <thead>\n",
       "    <tr style=\"text-align: right;\">\n",
       "      <th></th>\n",
       "      <th>Name</th>\n",
       "      <th>Sex</th>\n",
       "      <th>Ticket</th>\n",
       "      <th>Cabin</th>\n",
       "      <th>Embarked</th>\n",
       "    </tr>\n",
       "  </thead>\n",
       "  <tbody>\n",
       "    <tr>\n",
       "      <th>count</th>\n",
       "      <td>891</td>\n",
       "      <td>891</td>\n",
       "      <td>891</td>\n",
       "      <td>204</td>\n",
       "      <td>889</td>\n",
       "    </tr>\n",
       "    <tr>\n",
       "      <th>unique</th>\n",
       "      <td>891</td>\n",
       "      <td>2</td>\n",
       "      <td>681</td>\n",
       "      <td>147</td>\n",
       "      <td>3</td>\n",
       "    </tr>\n",
       "    <tr>\n",
       "      <th>top</th>\n",
       "      <td>Gale, Mr. Shadrach</td>\n",
       "      <td>male</td>\n",
       "      <td>1601</td>\n",
       "      <td>G6</td>\n",
       "      <td>S</td>\n",
       "    </tr>\n",
       "    <tr>\n",
       "      <th>freq</th>\n",
       "      <td>1</td>\n",
       "      <td>577</td>\n",
       "      <td>7</td>\n",
       "      <td>4</td>\n",
       "      <td>644</td>\n",
       "    </tr>\n",
       "  </tbody>\n",
       "</table>\n",
       "</div>"
      ],
      "text/plain": [
       "                      Name   Sex Ticket Cabin Embarked\n",
       "count                  891   891    891   204      889\n",
       "unique                 891     2    681   147        3\n",
       "top     Gale, Mr. Shadrach  male   1601    G6        S\n",
       "freq                     1   577      7     4      644"
      ]
     },
     "execution_count": 10,
     "metadata": {},
     "output_type": "execute_result"
    }
   ],
   "source": [
    "## Discovering the categorical distribution\n",
    "\n",
    "train_data.describe(include=['O'])"
   ]
  },
  {
   "cell_type": "markdown",
   "metadata": {},
   "source": [
    " *   Categorical data distribution discovering results:\n",
    "      *   There are no duplicated names.\n",
    "       *    64.7% of the passengers are males\n",
    "        *    There are duplicated values in the Ticket feature (23.5% are duplicated).\n",
    "         *    There are duplicated values in the Cabin feature (27.9% are duplicated).\n",
    "          *    72.4% of the passengers used \"S\" Embarked.\n",
    "\n",
    "    *       insights:\n",
    "\n",
    "      *      Names uniqueness gives us unsight for Data Engineering Step.\n",
    "       *     Duplicate values in Ticket and Cabin features give us insights to make the right decision when filling missed values.\n",
    "       *      we will fill missed Embarked values with 'S' type."
   ]
  },
  {
   "cell_type": "markdown",
   "metadata": {},
   "source": [
    "## Exploratory Data Analysis"
   ]
  },
  {
   "cell_type": "code",
   "execution_count": 26,
   "metadata": {},
   "outputs": [
    {
     "data": {
      "image/png": "[encoded data removed]",
      "text/plain": [
       "<Figure size 576x288 with 2 Axes>"
      ]
     },
     "metadata": {
      "needs_background": "light"
     },
     "output_type": "display_data"
    }
   ],
   "source": [
    "# count of survived\n",
    "\n",
    "fig,ax=plt.subplots(1,2,figsize=(8,4))\n",
    "train_data['Survived'].replace({0:\"died\",1:\"survived\"}).value_counts().plot.pie(explode=[0,0.1],autopct='%1.1f%%',ax=ax[0],shadow=True)\n",
    "ax[0].set_ylabel('')\n",
    "sns.countplot(x = train_data[\"Survived\"].replace({0:\"died\",1:\"survived\"}) , ax = ax[1])\n",
    "ax[1].set_ylabel('')\n",
    "ax[1].set_xlabel('')\n",
    "plt.show()"
   ]
  },
  {
   "cell_type": "markdown",
   "metadata": {},
   "source": [
    "We saw before that only 338 (38%) of the passengers survived,\n",
    "\n",
    "We need to dig down more to get better insights from the data \n",
    "\n",
    "and see which categories of the passengers did survive and who didn't."
   ]
  },
  {
   "cell_type": "code",
   "execution_count": 27,
   "metadata": {},
   "outputs": [],
   "source": [
    "# Discovering The feature correlation with survived\n",
    "\n",
    "# Helper functions:\n",
    "def survived_bar_plot(feature):\n",
    "    plt.figure(figsize = (6,4))\n",
    "    sns.barplot(data = train_data , x = feature , y = \"Survived\").set_title(f\"{feature} Vs Survived\")\n",
    "    plt.show()\n",
    "def survived_table(feature):\n",
    "    return train_data[[feature, \"Survived\"]].groupby([feature], as_index=False).mean().sort_values(by='Survived', ascending=False).style.background_gradient(low=0.75,high=1)\n",
    "def survived_hist_plot(feature):\n",
    "    plt.figure(figsize = (6,4))\n",
    "    sns.histplot(data = train_data , x = feature , hue = \"Survived\",binwidth=5,palette = sns.color_palette([\"yellow\" , \"green\"]) ,multiple = \"stack\" ).set_title(f\"{feature} Vs Survived\")\n",
    "    plt.show()"
   ]
  },
  {
   "cell_type": "markdown",
   "metadata": {},
   "source": [
    "## Sex Vs Survived"
   ]
  },
  {
   "cell_type": "code",
   "execution_count": 29,
   "metadata": {},
   "outputs": [
    {
     "data": {
      "image/png": "[encoded data removed]",
      "text/plain": [
       "<Figure size 432x288 with 1 Axes>"
      ]
     },
     "metadata": {
      "needs_background": "light"
     },
     "output_type": "display_data"
    }
   ],
   "source": [
    "\n",
    "\n",
    "survived_bar_plot('Sex')"
   ]
  },
  {
   "cell_type": "code",
   "execution_count": 30,
   "metadata": {},
   "outputs": [
    {
     "data": {
      "text/html": [
       "<style  type=\"text/css\" >\n",
       "#T_dad9ef80_f68a_11ed_9e8e_db30a73f29eerow0_col1{\n",
       "            background-color:  #328dbf;\n",
       "            color:  #000000;\n",
       "        }#T_dad9ef80_f68a_11ed_9e8e_db30a73f29eerow1_col1{\n",
       "            background-color:  #c9cee4;\n",
       "            color:  #000000;\n",
       "        }</style><table id=\"T_dad9ef80_f68a_11ed_9e8e_db30a73f29ee\" ><thead>    <tr>        <th class=\"blank level0\" ></th>        <th class=\"col_heading level0 col0\" >Sex</th>        <th class=\"col_heading level0 col1\" >Survived</th>    </tr></thead><tbody>\n",
       "                <tr>\n",
       "                        <th id=\"T_dad9ef80_f68a_11ed_9e8e_db30a73f29eelevel0_row0\" class=\"row_heading level0 row0\" >0</th>\n",
       "                        <td id=\"T_dad9ef80_f68a_11ed_9e8e_db30a73f29eerow0_col0\" class=\"data row0 col0\" >female</td>\n",
       "                        <td id=\"T_dad9ef80_f68a_11ed_9e8e_db30a73f29eerow0_col1\" class=\"data row0 col1\" >0.742038</td>\n",
       "            </tr>\n",
       "            <tr>\n",
       "                        <th id=\"T_dad9ef80_f68a_11ed_9e8e_db30a73f29eelevel0_row1\" class=\"row_heading level0 row1\" >1</th>\n",
       "                        <td id=\"T_dad9ef80_f68a_11ed_9e8e_db30a73f29eerow1_col0\" class=\"data row1 col0\" >male</td>\n",
       "                        <td id=\"T_dad9ef80_f68a_11ed_9e8e_db30a73f29eerow1_col1\" class=\"data row1 col1\" >0.188908</td>\n",
       "            </tr>\n",
       "    </tbody></table>"
      ],
      "text/plain": [
       "<pandas.io.formats.style.Styler at 0x2047d5ceb48>"
      ]
     },
     "execution_count": 30,
     "metadata": {},
     "output_type": "execute_result"
    }
   ],
   "source": [
    "survived_table('Sex')"
   ]
  },
  {
   "cell_type": "markdown",
   "metadata": {},
   "source": [
    "## Pclass vs Survived"
   ]
  },
  {
   "cell_type": "code",
   "execution_count": 32,
   "metadata": {},
   "outputs": [
    {
     "data": {
      "image/png": "[encoded data removed]",
      "text/plain": [
       "<Figure size 432x288 with 1 Axes>"
      ]
     },
     "metadata": {
      "needs_background": "light"
     },
     "output_type": "display_data"
    }
   ],
   "source": [
    "survived_bar_plot('Pclass')"
   ]
  },
  {
   "cell_type": "code",
   "execution_count": 33,
   "metadata": {},
   "outputs": [
    {
     "data": {
      "text/html": [
       "<style  type=\"text/css\" >\n",
       "#T_1479bce8_f68b_11ed_b30f_db30a73f29eerow0_col0,#T_1479bce8_f68b_11ed_b30f_db30a73f29eerow2_col1{\n",
       "            background-color:  #c9cee4;\n",
       "            color:  #000000;\n",
       "        }#T_1479bce8_f68b_11ed_b30f_db30a73f29eerow0_col1,#T_1479bce8_f68b_11ed_b30f_db30a73f29eerow2_col0{\n",
       "            background-color:  #328dbf;\n",
       "            color:  #000000;\n",
       "        }#T_1479bce8_f68b_11ed_b30f_db30a73f29eerow1_col0{\n",
       "            background-color:  #86b0d3;\n",
       "            color:  #000000;\n",
       "        }#T_1479bce8_f68b_11ed_b30f_db30a73f29eerow1_col1{\n",
       "            background-color:  #78abd0;\n",
       "            color:  #000000;\n",
       "        }</style><table id=\"T_1479bce8_f68b_11ed_b30f_db30a73f29ee\" ><thead>    <tr>        <th class=\"blank level0\" ></th>        <th class=\"col_heading level0 col0\" >Pclass</th>        <th class=\"col_heading level0 col1\" >Survived</th>    </tr></thead><tbody>\n",
       "                <tr>\n",
       "                        <th id=\"T_1479bce8_f68b_11ed_b30f_db30a73f29eelevel0_row0\" class=\"row_heading level0 row0\" >0</th>\n",
       "                        <td id=\"T_1479bce8_f68b_11ed_b30f_db30a73f29eerow0_col0\" class=\"data row0 col0\" >1</td>\n",
       "                        <td id=\"T_1479bce8_f68b_11ed_b30f_db30a73f29eerow0_col1\" class=\"data row0 col1\" >0.629630</td>\n",
       "            </tr>\n",
       "            <tr>\n",
       "                        <th id=\"T_1479bce8_f68b_11ed_b30f_db30a73f29eelevel0_row1\" class=\"row_heading level0 row1\" >1</th>\n",
       "                        <td id=\"T_1479bce8_f68b_11ed_b30f_db30a73f29eerow1_col0\" class=\"data row1 col0\" >2</td>\n",
       "                        <td id=\"T_1479bce8_f68b_11ed_b30f_db30a73f29eerow1_col1\" class=\"data row1 col1\" >0.472826</td>\n",
       "            </tr>\n",
       "            <tr>\n",
       "                        <th id=\"T_1479bce8_f68b_11ed_b30f_db30a73f29eelevel0_row2\" class=\"row_heading level0 row2\" >2</th>\n",
       "                        <td id=\"T_1479bce8_f68b_11ed_b30f_db30a73f29eerow2_col0\" class=\"data row2 col0\" >3</td>\n",
       "                        <td id=\"T_1479bce8_f68b_11ed_b30f_db30a73f29eerow2_col1\" class=\"data row2 col1\" >0.242363</td>\n",
       "            </tr>\n",
       "    </tbody></table>"
      ],
      "text/plain": [
       "<pandas.io.formats.style.Styler at 0x2047d573c08>"
      ]
     },
     "execution_count": 33,
     "metadata": {},
     "output_type": "execute_result"
    }
   ],
   "source": [
    "survived_table('Pclass')"
   ]
  },
  {
   "cell_type": "markdown",
   "metadata": {},
   "source": [
    "## Embarked vs Survived"
   ]
  },
  {
   "cell_type": "code",
   "execution_count": 35,
   "metadata": {},
   "outputs": [
    {
     "data": {
      "image/png": "[encoded data removed]",
      "text/plain": [
       "<Figure size 432x288 with 1 Axes>"
      ]
     },
     "metadata": {
      "needs_background": "light"
     },
     "output_type": "display_data"
    }
   ],
   "source": [
    "survived_bar_plot('Embarked')"
   ]
  },
  {
   "cell_type": "code",
   "execution_count": 36,
   "metadata": {
    "scrolled": true
   },
   "outputs": [
    {
     "data": {
      "text/html": [
       "<style  type=\"text/css\" >\n",
       "#T_53ab176e_f68b_11ed_92b9_db30a73f29eerow0_col1{\n",
       "            background-color:  #328dbf;\n",
       "            color:  #000000;\n",
       "        }#T_53ab176e_f68b_11ed_92b9_db30a73f29eerow1_col1{\n",
       "            background-color:  #abbfdc;\n",
       "            color:  #000000;\n",
       "        }#T_53ab176e_f68b_11ed_92b9_db30a73f29eerow2_col1{\n",
       "            background-color:  #c9cee4;\n",
       "            color:  #000000;\n",
       "        }</style><table id=\"T_53ab176e_f68b_11ed_92b9_db30a73f29ee\" ><thead>    <tr>        <th class=\"blank level0\" ></th>        <th class=\"col_heading level0 col0\" >Embarked</th>        <th class=\"col_heading level0 col1\" >Survived</th>    </tr></thead><tbody>\n",
       "                <tr>\n",
       "                        <th id=\"T_53ab176e_f68b_11ed_92b9_db30a73f29eelevel0_row0\" class=\"row_heading level0 row0\" >0</th>\n",
       "                        <td id=\"T_53ab176e_f68b_11ed_92b9_db30a73f29eerow0_col0\" class=\"data row0 col0\" >C</td>\n",
       "                        <td id=\"T_53ab176e_f68b_11ed_92b9_db30a73f29eerow0_col1\" class=\"data row0 col1\" >0.553571</td>\n",
       "            </tr>\n",
       "            <tr>\n",
       "                        <th id=\"T_53ab176e_f68b_11ed_92b9_db30a73f29eelevel0_row1\" class=\"row_heading level0 row1\" >1</th>\n",
       "                        <td id=\"T_53ab176e_f68b_11ed_92b9_db30a73f29eerow1_col0\" class=\"data row1 col0\" >Q</td>\n",
       "                        <td id=\"T_53ab176e_f68b_11ed_92b9_db30a73f29eerow1_col1\" class=\"data row1 col1\" >0.389610</td>\n",
       "            </tr>\n",
       "            <tr>\n",
       "                        <th id=\"T_53ab176e_f68b_11ed_92b9_db30a73f29eelevel0_row2\" class=\"row_heading level0 row2\" >2</th>\n",
       "                        <td id=\"T_53ab176e_f68b_11ed_92b9_db30a73f29eerow2_col0\" class=\"data row2 col0\" >S</td>\n",
       "                        <td id=\"T_53ab176e_f68b_11ed_92b9_db30a73f29eerow2_col1\" class=\"data row2 col1\" >0.336957</td>\n",
       "            </tr>\n",
       "    </tbody></table>"
      ],
      "text/plain": [
       "<pandas.io.formats.style.Styler at 0x2047d03afc8>"
      ]
     },
     "execution_count": 36,
     "metadata": {},
     "output_type": "execute_result"
    }
   ],
   "source": [
    "survived_table('Embarked')"
   ]
  },
  {
   "cell_type": "markdown",
   "metadata": {},
   "source": [
    "## Parch vs Survived"
   ]
  },
  {
   "cell_type": "code",
   "execution_count": 37,
   "metadata": {},
   "outputs": [
    {
     "data": {
      "image/png": "[encoded data removed]",
      "text/plain": [
       "<Figure size 432x288 with 1 Axes>"
      ]
     },
     "metadata": {
      "needs_background": "light"
     },
     "output_type": "display_data"
    }
   ],
   "source": [
    "survived_bar_plot('Parch')"
   ]
  },
  {
   "cell_type": "code",
   "execution_count": 38,
   "metadata": {},
   "outputs": [
    {
     "data": {
      "text/html": [
       "<style  type=\"text/css\" >\n",
       "#T_8c442f06_f68b_11ed_bf55_db30a73f29eerow0_col0{\n",
       "            background-color:  #86b0d3;\n",
       "            color:  #000000;\n",
       "        }#T_8c442f06_f68b_11ed_bf55_db30a73f29eerow0_col1,#T_8c442f06_f68b_11ed_bf55_db30a73f29eerow6_col0{\n",
       "            background-color:  #328dbf;\n",
       "            color:  #000000;\n",
       "        }#T_8c442f06_f68b_11ed_bf55_db30a73f29eerow1_col0{\n",
       "            background-color:  #b4c4df;\n",
       "            color:  #000000;\n",
       "        }#T_8c442f06_f68b_11ed_bf55_db30a73f29eerow1_col1{\n",
       "            background-color:  #3f93c2;\n",
       "            color:  #000000;\n",
       "        }#T_8c442f06_f68b_11ed_bf55_db30a73f29eerow2_col0,#T_8c442f06_f68b_11ed_bf55_db30a73f29eerow4_col1{\n",
       "            background-color:  #9fbad9;\n",
       "            color:  #000000;\n",
       "        }#T_8c442f06_f68b_11ed_bf55_db30a73f29eerow2_col1,#T_8c442f06_f68b_11ed_bf55_db30a73f29eerow4_col0{\n",
       "            background-color:  #4e9ac6;\n",
       "            color:  #000000;\n",
       "        }#T_8c442f06_f68b_11ed_bf55_db30a73f29eerow3_col0,#T_8c442f06_f68b_11ed_bf55_db30a73f29eerow5_col1,#T_8c442f06_f68b_11ed_bf55_db30a73f29eerow6_col1{\n",
       "            background-color:  #c9cee4;\n",
       "            color:  #000000;\n",
       "        }#T_8c442f06_f68b_11ed_bf55_db30a73f29eerow3_col1{\n",
       "            background-color:  #7bacd1;\n",
       "            color:  #000000;\n",
       "        }#T_8c442f06_f68b_11ed_bf55_db30a73f29eerow5_col0{\n",
       "            background-color:  #6da6cd;\n",
       "            color:  #000000;\n",
       "        }</style><table id=\"T_8c442f06_f68b_11ed_bf55_db30a73f29ee\" ><thead>    <tr>        <th class=\"blank level0\" ></th>        <th class=\"col_heading level0 col0\" >Parch</th>        <th class=\"col_heading level0 col1\" >Survived</th>    </tr></thead><tbody>\n",
       "                <tr>\n",
       "                        <th id=\"T_8c442f06_f68b_11ed_bf55_db30a73f29eelevel0_row0\" class=\"row_heading level0 row0\" >3</th>\n",
       "                        <td id=\"T_8c442f06_f68b_11ed_bf55_db30a73f29eerow0_col0\" class=\"data row0 col0\" >3</td>\n",
       "                        <td id=\"T_8c442f06_f68b_11ed_bf55_db30a73f29eerow0_col1\" class=\"data row0 col1\" >0.600000</td>\n",
       "            </tr>\n",
       "            <tr>\n",
       "                        <th id=\"T_8c442f06_f68b_11ed_bf55_db30a73f29eelevel0_row1\" class=\"row_heading level0 row1\" >1</th>\n",
       "                        <td id=\"T_8c442f06_f68b_11ed_bf55_db30a73f29eerow1_col0\" class=\"data row1 col0\" >1</td>\n",
       "                        <td id=\"T_8c442f06_f68b_11ed_bf55_db30a73f29eerow1_col1\" class=\"data row1 col1\" >0.550847</td>\n",
       "            </tr>\n",
       "            <tr>\n",
       "                        <th id=\"T_8c442f06_f68b_11ed_bf55_db30a73f29eelevel0_row2\" class=\"row_heading level0 row2\" >2</th>\n",
       "                        <td id=\"T_8c442f06_f68b_11ed_bf55_db30a73f29eerow2_col0\" class=\"data row2 col0\" >2</td>\n",
       "                        <td id=\"T_8c442f06_f68b_11ed_bf55_db30a73f29eerow2_col1\" class=\"data row2 col1\" >0.500000</td>\n",
       "            </tr>\n",
       "            <tr>\n",
       "                        <th id=\"T_8c442f06_f68b_11ed_bf55_db30a73f29eelevel0_row3\" class=\"row_heading level0 row3\" >0</th>\n",
       "                        <td id=\"T_8c442f06_f68b_11ed_bf55_db30a73f29eerow3_col0\" class=\"data row3 col0\" >0</td>\n",
       "                        <td id=\"T_8c442f06_f68b_11ed_bf55_db30a73f29eerow3_col1\" class=\"data row3 col1\" >0.343658</td>\n",
       "            </tr>\n",
       "            <tr>\n",
       "                        <th id=\"T_8c442f06_f68b_11ed_bf55_db30a73f29eelevel0_row4\" class=\"row_heading level0 row4\" >5</th>\n",
       "                        <td id=\"T_8c442f06_f68b_11ed_bf55_db30a73f29eerow4_col0\" class=\"data row4 col0\" >5</td>\n",
       "                        <td id=\"T_8c442f06_f68b_11ed_bf55_db30a73f29eerow4_col1\" class=\"data row4 col1\" >0.200000</td>\n",
       "            </tr>\n",
       "            <tr>\n",
       "                        <th id=\"T_8c442f06_f68b_11ed_bf55_db30a73f29eelevel0_row5\" class=\"row_heading level0 row5\" >4</th>\n",
       "                        <td id=\"T_8c442f06_f68b_11ed_bf55_db30a73f29eerow5_col0\" class=\"data row5 col0\" >4</td>\n",
       "                        <td id=\"T_8c442f06_f68b_11ed_bf55_db30a73f29eerow5_col1\" class=\"data row5 col1\" >0.000000</td>\n",
       "            </tr>\n",
       "            <tr>\n",
       "                        <th id=\"T_8c442f06_f68b_11ed_bf55_db30a73f29eelevel0_row6\" class=\"row_heading level0 row6\" >6</th>\n",
       "                        <td id=\"T_8c442f06_f68b_11ed_bf55_db30a73f29eerow6_col0\" class=\"data row6 col0\" >6</td>\n",
       "                        <td id=\"T_8c442f06_f68b_11ed_bf55_db30a73f29eerow6_col1\" class=\"data row6 col1\" >0.000000</td>\n",
       "            </tr>\n",
       "    </tbody></table>"
      ],
      "text/plain": [
       "<pandas.io.formats.style.Styler at 0x2047bda8988>"
      ]
     },
     "execution_count": 38,
     "metadata": {},
     "output_type": "execute_result"
    }
   ],
   "source": [
    "survived_table('Parch')"
   ]
  },
  {
   "cell_type": "markdown",
   "metadata": {},
   "source": [
    "## SibSp vs Survived"
   ]
  },
  {
   "cell_type": "code",
   "execution_count": 39,
   "metadata": {},
   "outputs": [
    {
     "data": {
      "image/png": "[encoded data removed]",
      "text/plain": [
       "<Figure size 432x288 with 1 Axes>"
      ]
     },
     "metadata": {
      "needs_background": "light"
     },
     "output_type": "display_data"
    }
   ],
   "source": [
    "survived_bar_plot('SibSp')"
   ]
  },
  {
   "cell_type": "code",
   "execution_count": 40,
   "metadata": {},
   "outputs": [
    {
     "data": {
      "text/html": [
       "<style  type=\"text/css\" >\n",
       "#T_c83f9022_f68b_11ed_bfdb_db30a73f29eerow0_col0{\n",
       "            background-color:  #b9c6e0;\n",
       "            color:  #000000;\n",
       "        }#T_c83f9022_f68b_11ed_bfdb_db30a73f29eerow0_col1,#T_c83f9022_f68b_11ed_bfdb_db30a73f29eerow6_col0{\n",
       "            background-color:  #328dbf;\n",
       "            color:  #000000;\n",
       "        }#T_c83f9022_f68b_11ed_bfdb_db30a73f29eerow1_col0{\n",
       "            background-color:  #a9bfdc;\n",
       "            color:  #000000;\n",
       "        }#T_c83f9022_f68b_11ed_bfdb_db30a73f29eerow1_col1{\n",
       "            background-color:  #4897c4;\n",
       "            color:  #000000;\n",
       "        }#T_c83f9022_f68b_11ed_bfdb_db30a73f29eerow2_col0,#T_c83f9022_f68b_11ed_bfdb_db30a73f29eerow5_col1,#T_c83f9022_f68b_11ed_bfdb_db30a73f29eerow6_col1{\n",
       "            background-color:  #c9cee4;\n",
       "            color:  #000000;\n",
       "        }#T_c83f9022_f68b_11ed_bfdb_db30a73f29eerow2_col1{\n",
       "            background-color:  #71a8ce;\n",
       "            color:  #000000;\n",
       "        }#T_c83f9022_f68b_11ed_bfdb_db30a73f29eerow3_col0{\n",
       "            background-color:  #99b8d8;\n",
       "            color:  #000000;\n",
       "        }#T_c83f9022_f68b_11ed_bfdb_db30a73f29eerow3_col1{\n",
       "            background-color:  #8bb2d4;\n",
       "            color:  #000000;\n",
       "        }#T_c83f9022_f68b_11ed_bfdb_db30a73f29eerow4_col0{\n",
       "            background-color:  #86b0d3;\n",
       "            color:  #000000;\n",
       "        }#T_c83f9022_f68b_11ed_bfdb_db30a73f29eerow4_col1{\n",
       "            background-color:  #a2bcda;\n",
       "            color:  #000000;\n",
       "        }#T_c83f9022_f68b_11ed_bfdb_db30a73f29eerow5_col0{\n",
       "            background-color:  #73a9cf;\n",
       "            color:  #000000;\n",
       "        }</style><table id=\"T_c83f9022_f68b_11ed_bfdb_db30a73f29ee\" ><thead>    <tr>        <th class=\"blank level0\" ></th>        <th class=\"col_heading level0 col0\" >SibSp</th>        <th class=\"col_heading level0 col1\" >Survived</th>    </tr></thead><tbody>\n",
       "                <tr>\n",
       "                        <th id=\"T_c83f9022_f68b_11ed_bfdb_db30a73f29eelevel0_row0\" class=\"row_heading level0 row0\" >1</th>\n",
       "                        <td id=\"T_c83f9022_f68b_11ed_bfdb_db30a73f29eerow0_col0\" class=\"data row0 col0\" >1</td>\n",
       "                        <td id=\"T_c83f9022_f68b_11ed_bfdb_db30a73f29eerow0_col1\" class=\"data row0 col1\" >0.535885</td>\n",
       "            </tr>\n",
       "            <tr>\n",
       "                        <th id=\"T_c83f9022_f68b_11ed_bfdb_db30a73f29eelevel0_row1\" class=\"row_heading level0 row1\" >2</th>\n",
       "                        <td id=\"T_c83f9022_f68b_11ed_bfdb_db30a73f29eerow1_col0\" class=\"data row1 col0\" >2</td>\n",
       "                        <td id=\"T_c83f9022_f68b_11ed_bfdb_db30a73f29eerow1_col1\" class=\"data row1 col1\" >0.464286</td>\n",
       "            </tr>\n",
       "            <tr>\n",
       "                        <th id=\"T_c83f9022_f68b_11ed_bfdb_db30a73f29eelevel0_row2\" class=\"row_heading level0 row2\" >0</th>\n",
       "                        <td id=\"T_c83f9022_f68b_11ed_bfdb_db30a73f29eerow2_col0\" class=\"data row2 col0\" >0</td>\n",
       "                        <td id=\"T_c83f9022_f68b_11ed_bfdb_db30a73f29eerow2_col1\" class=\"data row2 col1\" >0.345395</td>\n",
       "            </tr>\n",
       "            <tr>\n",
       "                        <th id=\"T_c83f9022_f68b_11ed_bfdb_db30a73f29eelevel0_row3\" class=\"row_heading level0 row3\" >3</th>\n",
       "                        <td id=\"T_c83f9022_f68b_11ed_bfdb_db30a73f29eerow3_col0\" class=\"data row3 col0\" >3</td>\n",
       "                        <td id=\"T_c83f9022_f68b_11ed_bfdb_db30a73f29eerow3_col1\" class=\"data row3 col1\" >0.250000</td>\n",
       "            </tr>\n",
       "            <tr>\n",
       "                        <th id=\"T_c83f9022_f68b_11ed_bfdb_db30a73f29eelevel0_row4\" class=\"row_heading level0 row4\" >4</th>\n",
       "                        <td id=\"T_c83f9022_f68b_11ed_bfdb_db30a73f29eerow4_col0\" class=\"data row4 col0\" >4</td>\n",
       "                        <td id=\"T_c83f9022_f68b_11ed_bfdb_db30a73f29eerow4_col1\" class=\"data row4 col1\" >0.166667</td>\n",
       "            </tr>\n",
       "            <tr>\n",
       "                        <th id=\"T_c83f9022_f68b_11ed_bfdb_db30a73f29eelevel0_row5\" class=\"row_heading level0 row5\" >5</th>\n",
       "                        <td id=\"T_c83f9022_f68b_11ed_bfdb_db30a73f29eerow5_col0\" class=\"data row5 col0\" >5</td>\n",
       "                        <td id=\"T_c83f9022_f68b_11ed_bfdb_db30a73f29eerow5_col1\" class=\"data row5 col1\" >0.000000</td>\n",
       "            </tr>\n",
       "            <tr>\n",
       "                        <th id=\"T_c83f9022_f68b_11ed_bfdb_db30a73f29eelevel0_row6\" class=\"row_heading level0 row6\" >6</th>\n",
       "                        <td id=\"T_c83f9022_f68b_11ed_bfdb_db30a73f29eerow6_col0\" class=\"data row6 col0\" >8</td>\n",
       "                        <td id=\"T_c83f9022_f68b_11ed_bfdb_db30a73f29eerow6_col1\" class=\"data row6 col1\" >0.000000</td>\n",
       "            </tr>\n",
       "    </tbody></table>"
      ],
      "text/plain": [
       "<pandas.io.formats.style.Styler at 0x2047bcedc88>"
      ]
     },
     "execution_count": 40,
     "metadata": {},
     "output_type": "execute_result"
    }
   ],
   "source": [
    "survived_table('SibSp')"
   ]
  },
  {
   "cell_type": "markdown",
   "metadata": {},
   "source": [
    "## Age vs Survied"
   ]
  },
  {
   "cell_type": "code",
   "execution_count": 42,
   "metadata": {},
   "outputs": [
    {
     "data": {
      "image/png": "[encoded data removed]",
      "text/plain": [
       "<Figure size 432x288 with 1 Axes>"
      ]
     },
     "metadata": {
      "needs_background": "light"
     },
     "output_type": "display_data"
    }
   ],
   "source": [
    "survived_hist_plot('Age')"
   ]
  },
  {
   "cell_type": "markdown",
   "metadata": {},
   "source": [
    "Infants (age<=5) and childrens (between 10 and 15 years old) are most likely to survive.\n",
    "\n",
    "elder passengers (>75) survived.\n",
    "\n",
    "most passengers are between 15 and 40 years old."
   ]
  },
  {
   "cell_type": "markdown",
   "metadata": {},
   "source": [
    "## Discovering the correlations between the features"
   ]
  },
  {
   "cell_type": "code",
   "execution_count": 43,
   "metadata": {},
   "outputs": [
    {
     "data": {
      "text/plain": [
       "<AxesSubplot:>"
      ]
     },
     "execution_count": 43,
     "metadata": {},
     "output_type": "execute_result"
    },
    {
     "data": {
      "image/png": "[encoded data removed]",
      "text/plain": [
       "<Figure size 720x432 with 2 Axes>"
      ]
     },
     "metadata": {},
     "output_type": "display_data"
    }
   ],
   "source": [
    "sns.set(rc = {'figure.figsize':(10,6)})\n",
    "sns.heatmap(train_data.corr(), annot = True, fmt='.2g',cmap= 'YlGnBu')"
   ]
  },
  {
   "cell_type": "markdown",
   "metadata": {},
   "source": [
    "Passenger Id has no correlation with any feature.\n",
    "\n",
    "PClass has strong negative correlation with age and Fare.\n",
    "\n",
    "Age has negative correlation with parch and sibsp."
   ]
  },
  {
   "cell_type": "code",
   "execution_count": null,
   "metadata": {},
   "outputs": [],
   "source": []
  },
  {
   "cell_type": "code",
   "execution_count": null,
   "metadata": {},
   "outputs": [],
   "source": []
  },
  {
   "cell_type": "code",
   "execution_count": null,
   "metadata": {},
   "outputs": [],
   "source": []
  },
  {
   "cell_type": "markdown",
   "metadata": {},
   "source": [
    "https://www.kaggle.com/code/odaymourad/detailed-and-typical-solution-ensemble-modeling/notebook"
   ]
  },
  {
   "cell_type": "code",
   "execution_count": null,
   "metadata": {},
   "outputs": [],
   "source": [
    "https://www.kaggle.com/code/odaymourad/random-forest-model-clearly-explained"
   ]
  }
 ],
 "metadata": {
  "kernelspec": {
   "display_name": "Python 3",
   "language": "python",
   "name": "python3"
  },
  "language_info": {
   "codemirror_mode": {
    "name": "ipython",
    "version": 3
   },
   "file_extension": ".py",
   "mimetype": "text/x-python",
   "name": "python",
   "nbconvert_exporter": "python",
   "pygments_lexer": "ipython3",
   "version": "3.7.9"
  }
 },
 "nbformat": 4,
 "nbformat_minor": 4
}
