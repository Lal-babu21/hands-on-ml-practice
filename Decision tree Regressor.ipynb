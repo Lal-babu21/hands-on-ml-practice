{
 "cells": [
  {
   "cell_type": "code",
   "execution_count": 79,
   "metadata": {},
   "outputs": [],
   "source": [
    "import numpy as np\n",
    "import pandas as pd\n",
    "import matplotlib.pyplot as plt\n",
    "%matplotlib inline\n",
    "\n",
    "import warnings\n",
    "warnings.filterwarnings('ignore')\n",
    "\n",
    "import sklearn\n",
    "\n",
    "import seaborn as sns\n",
    "\n",
    "from sklearn.metrics import mean_absolute_error\n",
    "\n",
    "from sklearn.model_selection import GridSearchCV"
   ]
  },
  {
   "cell_type": "code",
   "execution_count": 80,
   "metadata": {},
   "outputs": [],
   "source": [
    "df = sns.load_dataset('tips')"
   ]
  },
  {
   "cell_type": "code",
   "execution_count": 81,
   "metadata": {},
   "outputs": [
    {
     "data": {
      "text/plain": [
       "(244, 7)"
      ]
     },
     "execution_count": 81,
     "metadata": {},
     "output_type": "execute_result"
    }
   ],
   "source": [
    "df.shape"
   ]
  },
  {
   "cell_type": "code",
   "execution_count": 82,
   "metadata": {},
   "outputs": [
    {
     "data": {
      "text/html": [
       "<div>\n",
       "<style scoped>\n",
       "    .dataframe tbody tr th:only-of-type {\n",
       "        vertical-align: middle;\n",
       "    }\n",
       "\n",
       "    .dataframe tbody tr th {\n",
       "        vertical-align: top;\n",
       "    }\n",
       "\n",
       "    .dataframe thead th {\n",
       "        text-align: right;\n",
       "    }\n",
       "</style>\n",
       "<table border=\"1\" class=\"dataframe\">\n",
       "  <thead>\n",
       "    <tr style=\"text-align: right;\">\n",
       "      <th></th>\n",
       "      <th>total_bill</th>\n",
       "      <th>tip</th>\n",
       "      <th>sex</th>\n",
       "      <th>smoker</th>\n",
       "      <th>day</th>\n",
       "      <th>time</th>\n",
       "      <th>size</th>\n",
       "    </tr>\n",
       "  </thead>\n",
       "  <tbody>\n",
       "    <tr>\n",
       "      <th>0</th>\n",
       "      <td>16.99</td>\n",
       "      <td>1.01</td>\n",
       "      <td>Female</td>\n",
       "      <td>No</td>\n",
       "      <td>Sun</td>\n",
       "      <td>Dinner</td>\n",
       "      <td>2</td>\n",
       "    </tr>\n",
       "    <tr>\n",
       "      <th>1</th>\n",
       "      <td>10.34</td>\n",
       "      <td>1.66</td>\n",
       "      <td>Male</td>\n",
       "      <td>No</td>\n",
       "      <td>Sun</td>\n",
       "      <td>Dinner</td>\n",
       "      <td>3</td>\n",
       "    </tr>\n",
       "    <tr>\n",
       "      <th>2</th>\n",
       "      <td>21.01</td>\n",
       "      <td>3.50</td>\n",
       "      <td>Male</td>\n",
       "      <td>No</td>\n",
       "      <td>Sun</td>\n",
       "      <td>Dinner</td>\n",
       "      <td>3</td>\n",
       "    </tr>\n",
       "    <tr>\n",
       "      <th>3</th>\n",
       "      <td>23.68</td>\n",
       "      <td>3.31</td>\n",
       "      <td>Male</td>\n",
       "      <td>No</td>\n",
       "      <td>Sun</td>\n",
       "      <td>Dinner</td>\n",
       "      <td>2</td>\n",
       "    </tr>\n",
       "    <tr>\n",
       "      <th>4</th>\n",
       "      <td>24.59</td>\n",
       "      <td>3.61</td>\n",
       "      <td>Female</td>\n",
       "      <td>No</td>\n",
       "      <td>Sun</td>\n",
       "      <td>Dinner</td>\n",
       "      <td>4</td>\n",
       "    </tr>\n",
       "  </tbody>\n",
       "</table>\n",
       "</div>"
      ],
      "text/plain": [
       "   total_bill   tip     sex smoker  day    time  size\n",
       "0       16.99  1.01  Female     No  Sun  Dinner     2\n",
       "1       10.34  1.66    Male     No  Sun  Dinner     3\n",
       "2       21.01  3.50    Male     No  Sun  Dinner     3\n",
       "3       23.68  3.31    Male     No  Sun  Dinner     2\n",
       "4       24.59  3.61  Female     No  Sun  Dinner     4"
      ]
     },
     "execution_count": 82,
     "metadata": {},
     "output_type": "execute_result"
    }
   ],
   "source": [
    "df.head()"
   ]
  },
  {
   "cell_type": "code",
   "execution_count": 83,
   "metadata": {},
   "outputs": [
    {
     "name": "stdout",
     "output_type": "stream",
     "text": [
      "<class 'pandas.core.frame.DataFrame'>\n",
      "RangeIndex: 244 entries, 0 to 243\n",
      "Data columns (total 7 columns):\n",
      " #   Column      Non-Null Count  Dtype   \n",
      "---  ------      --------------  -----   \n",
      " 0   total_bill  244 non-null    float64 \n",
      " 1   tip         244 non-null    float64 \n",
      " 2   sex         244 non-null    category\n",
      " 3   smoker      244 non-null    category\n",
      " 4   day         244 non-null    category\n",
      " 5   time        244 non-null    category\n",
      " 6   size        244 non-null    int64   \n",
      "dtypes: category(4), float64(2), int64(1)\n",
      "memory usage: 7.3 KB\n"
     ]
    }
   ],
   "source": [
    "df.info()"
   ]
  },
  {
   "cell_type": "code",
   "execution_count": 84,
   "metadata": {},
   "outputs": [
    {
     "data": {
      "text/plain": [
       "total_bill    229\n",
       "tip           123\n",
       "sex             2\n",
       "smoker          2\n",
       "day             4\n",
       "time            2\n",
       "size            6\n",
       "dtype: int64"
      ]
     },
     "execution_count": 84,
     "metadata": {},
     "output_type": "execute_result"
    }
   ],
   "source": [
    "df.nunique()"
   ]
  },
  {
   "cell_type": "code",
   "execution_count": 85,
   "metadata": {},
   "outputs": [],
   "source": [
    "x = df.iloc[:,1:]\n",
    "y = df.iloc[:,0]"
   ]
  },
  {
   "cell_type": "code",
   "execution_count": 86,
   "metadata": {},
   "outputs": [
    {
     "data": {
      "text/html": [
       "<div>\n",
       "<style scoped>\n",
       "    .dataframe tbody tr th:only-of-type {\n",
       "        vertical-align: middle;\n",
       "    }\n",
       "\n",
       "    .dataframe tbody tr th {\n",
       "        vertical-align: top;\n",
       "    }\n",
       "\n",
       "    .dataframe thead th {\n",
       "        text-align: right;\n",
       "    }\n",
       "</style>\n",
       "<table border=\"1\" class=\"dataframe\">\n",
       "  <thead>\n",
       "    <tr style=\"text-align: right;\">\n",
       "      <th></th>\n",
       "      <th>tip</th>\n",
       "      <th>sex</th>\n",
       "      <th>smoker</th>\n",
       "      <th>day</th>\n",
       "      <th>time</th>\n",
       "      <th>size</th>\n",
       "    </tr>\n",
       "  </thead>\n",
       "  <tbody>\n",
       "    <tr>\n",
       "      <th>0</th>\n",
       "      <td>1.01</td>\n",
       "      <td>Female</td>\n",
       "      <td>No</td>\n",
       "      <td>Sun</td>\n",
       "      <td>Dinner</td>\n",
       "      <td>2</td>\n",
       "    </tr>\n",
       "    <tr>\n",
       "      <th>1</th>\n",
       "      <td>1.66</td>\n",
       "      <td>Male</td>\n",
       "      <td>No</td>\n",
       "      <td>Sun</td>\n",
       "      <td>Dinner</td>\n",
       "      <td>3</td>\n",
       "    </tr>\n",
       "    <tr>\n",
       "      <th>2</th>\n",
       "      <td>3.50</td>\n",
       "      <td>Male</td>\n",
       "      <td>No</td>\n",
       "      <td>Sun</td>\n",
       "      <td>Dinner</td>\n",
       "      <td>3</td>\n",
       "    </tr>\n",
       "    <tr>\n",
       "      <th>3</th>\n",
       "      <td>3.31</td>\n",
       "      <td>Male</td>\n",
       "      <td>No</td>\n",
       "      <td>Sun</td>\n",
       "      <td>Dinner</td>\n",
       "      <td>2</td>\n",
       "    </tr>\n",
       "    <tr>\n",
       "      <th>4</th>\n",
       "      <td>3.61</td>\n",
       "      <td>Female</td>\n",
       "      <td>No</td>\n",
       "      <td>Sun</td>\n",
       "      <td>Dinner</td>\n",
       "      <td>4</td>\n",
       "    </tr>\n",
       "    <tr>\n",
       "      <th>...</th>\n",
       "      <td>...</td>\n",
       "      <td>...</td>\n",
       "      <td>...</td>\n",
       "      <td>...</td>\n",
       "      <td>...</td>\n",
       "      <td>...</td>\n",
       "    </tr>\n",
       "    <tr>\n",
       "      <th>239</th>\n",
       "      <td>5.92</td>\n",
       "      <td>Male</td>\n",
       "      <td>No</td>\n",
       "      <td>Sat</td>\n",
       "      <td>Dinner</td>\n",
       "      <td>3</td>\n",
       "    </tr>\n",
       "    <tr>\n",
       "      <th>240</th>\n",
       "      <td>2.00</td>\n",
       "      <td>Female</td>\n",
       "      <td>Yes</td>\n",
       "      <td>Sat</td>\n",
       "      <td>Dinner</td>\n",
       "      <td>2</td>\n",
       "    </tr>\n",
       "    <tr>\n",
       "      <th>241</th>\n",
       "      <td>2.00</td>\n",
       "      <td>Male</td>\n",
       "      <td>Yes</td>\n",
       "      <td>Sat</td>\n",
       "      <td>Dinner</td>\n",
       "      <td>2</td>\n",
       "    </tr>\n",
       "    <tr>\n",
       "      <th>242</th>\n",
       "      <td>1.75</td>\n",
       "      <td>Male</td>\n",
       "      <td>No</td>\n",
       "      <td>Sat</td>\n",
       "      <td>Dinner</td>\n",
       "      <td>2</td>\n",
       "    </tr>\n",
       "    <tr>\n",
       "      <th>243</th>\n",
       "      <td>3.00</td>\n",
       "      <td>Female</td>\n",
       "      <td>No</td>\n",
       "      <td>Thur</td>\n",
       "      <td>Dinner</td>\n",
       "      <td>2</td>\n",
       "    </tr>\n",
       "  </tbody>\n",
       "</table>\n",
       "<p>244 rows × 6 columns</p>\n",
       "</div>"
      ],
      "text/plain": [
       "      tip     sex smoker   day    time  size\n",
       "0    1.01  Female     No   Sun  Dinner     2\n",
       "1    1.66    Male     No   Sun  Dinner     3\n",
       "2    3.50    Male     No   Sun  Dinner     3\n",
       "3    3.31    Male     No   Sun  Dinner     2\n",
       "4    3.61  Female     No   Sun  Dinner     4\n",
       "..    ...     ...    ...   ...     ...   ...\n",
       "239  5.92    Male     No   Sat  Dinner     3\n",
       "240  2.00  Female    Yes   Sat  Dinner     2\n",
       "241  2.00    Male    Yes   Sat  Dinner     2\n",
       "242  1.75    Male     No   Sat  Dinner     2\n",
       "243  3.00  Female     No  Thur  Dinner     2\n",
       "\n",
       "[244 rows x 6 columns]"
      ]
     },
     "execution_count": 86,
     "metadata": {},
     "output_type": "execute_result"
    }
   ],
   "source": [
    "x"
   ]
  },
  {
   "cell_type": "code",
   "execution_count": 87,
   "metadata": {},
   "outputs": [
    {
     "data": {
      "text/plain": [
       "0      16.99\n",
       "1      10.34\n",
       "2      21.01\n",
       "3      23.68\n",
       "4      24.59\n",
       "       ...  \n",
       "239    29.03\n",
       "240    27.18\n",
       "241    22.67\n",
       "242    17.82\n",
       "243    18.78\n",
       "Name: total_bill, Length: 244, dtype: float64"
      ]
     },
     "execution_count": 87,
     "metadata": {},
     "output_type": "execute_result"
    }
   ],
   "source": [
    "y"
   ]
  },
  {
   "cell_type": "code",
   "execution_count": 88,
   "metadata": {},
   "outputs": [
    {
     "data": {
      "text/plain": [
       "<AxesSubplot:xlabel='total_bill', ylabel='Count'>"
      ]
     },
     "execution_count": 88,
     "metadata": {},
     "output_type": "execute_result"
    },
    {
     "data": {
      "image/png": "[encoded data removed]",
      "text/plain": [
       "<Figure size 432x288 with 1 Axes>"
      ]
     },
     "metadata": {
      "needs_background": "light"
     },
     "output_type": "display_data"
    }
   ],
   "source": [
    "sns.histplot(y)"
   ]
  },
  {
   "cell_type": "code",
   "execution_count": 90,
   "metadata": {},
   "outputs": [],
   "source": [
    "cat_columns = ['sex', 'smoker', 'day', 'time']"
   ]
  },
  {
   "cell_type": "code",
   "execution_count": 91,
   "metadata": {},
   "outputs": [],
   "source": [
    "x= pd.get_dummies(x, columns=cat_columns, drop_first=True)"
   ]
  },
  {
   "cell_type": "code",
   "execution_count": 92,
   "metadata": {},
   "outputs": [
    {
     "data": {
      "text/html": [
       "<div>\n",
       "<style scoped>\n",
       "    .dataframe tbody tr th:only-of-type {\n",
       "        vertical-align: middle;\n",
       "    }\n",
       "\n",
       "    .dataframe tbody tr th {\n",
       "        vertical-align: top;\n",
       "    }\n",
       "\n",
       "    .dataframe thead th {\n",
       "        text-align: right;\n",
       "    }\n",
       "</style>\n",
       "<table border=\"1\" class=\"dataframe\">\n",
       "  <thead>\n",
       "    <tr style=\"text-align: right;\">\n",
       "      <th></th>\n",
       "      <th>tip</th>\n",
       "      <th>size</th>\n",
       "      <th>sex_Female</th>\n",
       "      <th>smoker_No</th>\n",
       "      <th>day_Fri</th>\n",
       "      <th>day_Sat</th>\n",
       "      <th>day_Sun</th>\n",
       "      <th>time_Dinner</th>\n",
       "    </tr>\n",
       "  </thead>\n",
       "  <tbody>\n",
       "    <tr>\n",
       "      <th>0</th>\n",
       "      <td>1.01</td>\n",
       "      <td>2</td>\n",
       "      <td>1</td>\n",
       "      <td>1</td>\n",
       "      <td>0</td>\n",
       "      <td>0</td>\n",
       "      <td>1</td>\n",
       "      <td>1</td>\n",
       "    </tr>\n",
       "    <tr>\n",
       "      <th>1</th>\n",
       "      <td>1.66</td>\n",
       "      <td>3</td>\n",
       "      <td>0</td>\n",
       "      <td>1</td>\n",
       "      <td>0</td>\n",
       "      <td>0</td>\n",
       "      <td>1</td>\n",
       "      <td>1</td>\n",
       "    </tr>\n",
       "    <tr>\n",
       "      <th>2</th>\n",
       "      <td>3.50</td>\n",
       "      <td>3</td>\n",
       "      <td>0</td>\n",
       "      <td>1</td>\n",
       "      <td>0</td>\n",
       "      <td>0</td>\n",
       "      <td>1</td>\n",
       "      <td>1</td>\n",
       "    </tr>\n",
       "    <tr>\n",
       "      <th>3</th>\n",
       "      <td>3.31</td>\n",
       "      <td>2</td>\n",
       "      <td>0</td>\n",
       "      <td>1</td>\n",
       "      <td>0</td>\n",
       "      <td>0</td>\n",
       "      <td>1</td>\n",
       "      <td>1</td>\n",
       "    </tr>\n",
       "    <tr>\n",
       "      <th>4</th>\n",
       "      <td>3.61</td>\n",
       "      <td>4</td>\n",
       "      <td>1</td>\n",
       "      <td>1</td>\n",
       "      <td>0</td>\n",
       "      <td>0</td>\n",
       "      <td>1</td>\n",
       "      <td>1</td>\n",
       "    </tr>\n",
       "    <tr>\n",
       "      <th>...</th>\n",
       "      <td>...</td>\n",
       "      <td>...</td>\n",
       "      <td>...</td>\n",
       "      <td>...</td>\n",
       "      <td>...</td>\n",
       "      <td>...</td>\n",
       "      <td>...</td>\n",
       "      <td>...</td>\n",
       "    </tr>\n",
       "    <tr>\n",
       "      <th>239</th>\n",
       "      <td>5.92</td>\n",
       "      <td>3</td>\n",
       "      <td>0</td>\n",
       "      <td>1</td>\n",
       "      <td>0</td>\n",
       "      <td>1</td>\n",
       "      <td>0</td>\n",
       "      <td>1</td>\n",
       "    </tr>\n",
       "    <tr>\n",
       "      <th>240</th>\n",
       "      <td>2.00</td>\n",
       "      <td>2</td>\n",
       "      <td>1</td>\n",
       "      <td>0</td>\n",
       "      <td>0</td>\n",
       "      <td>1</td>\n",
       "      <td>0</td>\n",
       "      <td>1</td>\n",
       "    </tr>\n",
       "    <tr>\n",
       "      <th>241</th>\n",
       "      <td>2.00</td>\n",
       "      <td>2</td>\n",
       "      <td>0</td>\n",
       "      <td>0</td>\n",
       "      <td>0</td>\n",
       "      <td>1</td>\n",
       "      <td>0</td>\n",
       "      <td>1</td>\n",
       "    </tr>\n",
       "    <tr>\n",
       "      <th>242</th>\n",
       "      <td>1.75</td>\n",
       "      <td>2</td>\n",
       "      <td>0</td>\n",
       "      <td>1</td>\n",
       "      <td>0</td>\n",
       "      <td>1</td>\n",
       "      <td>0</td>\n",
       "      <td>1</td>\n",
       "    </tr>\n",
       "    <tr>\n",
       "      <th>243</th>\n",
       "      <td>3.00</td>\n",
       "      <td>2</td>\n",
       "      <td>1</td>\n",
       "      <td>1</td>\n",
       "      <td>0</td>\n",
       "      <td>0</td>\n",
       "      <td>0</td>\n",
       "      <td>1</td>\n",
       "    </tr>\n",
       "  </tbody>\n",
       "</table>\n",
       "<p>244 rows × 8 columns</p>\n",
       "</div>"
      ],
      "text/plain": [
       "      tip  size  sex_Female  smoker_No  day_Fri  day_Sat  day_Sun  time_Dinner\n",
       "0    1.01     2           1          1        0        0        1            1\n",
       "1    1.66     3           0          1        0        0        1            1\n",
       "2    3.50     3           0          1        0        0        1            1\n",
       "3    3.31     2           0          1        0        0        1            1\n",
       "4    3.61     4           1          1        0        0        1            1\n",
       "..    ...   ...         ...        ...      ...      ...      ...          ...\n",
       "239  5.92     3           0          1        0        1        0            1\n",
       "240  2.00     2           1          0        0        1        0            1\n",
       "241  2.00     2           0          0        0        1        0            1\n",
       "242  1.75     2           0          1        0        1        0            1\n",
       "243  3.00     2           1          1        0        0        0            1\n",
       "\n",
       "[244 rows x 8 columns]"
      ]
     },
     "execution_count": 92,
     "metadata": {},
     "output_type": "execute_result"
    }
   ],
   "source": [
    "x"
   ]
  },
  {
   "cell_type": "code",
   "execution_count": 93,
   "metadata": {},
   "outputs": [
    {
     "name": "stdout",
     "output_type": "stream",
     "text": [
      "shape of x_train :  (163, 8)\n",
      "shape of x_test :  (81, 8)\n",
      "shape of y_train :  (163,)\n",
      "shape of y_test :  (81,)\n"
     ]
    }
   ],
   "source": [
    "from sklearn.model_selection import train_test_split\n",
    "\n",
    "x_train, x_test, y_train, y_test = train_test_split(x,y,test_size=.33,random_state=42)\n",
    "\n",
    "print('shape of x_train : ', x_train.shape)\n",
    "print('shape of x_test : ', x_test.shape)\n",
    "print('shape of y_train : ', y_train.shape)\n",
    "print('shape of y_test : ', y_test.shape)"
   ]
  },
  {
   "cell_type": "code",
   "execution_count": 94,
   "metadata": {},
   "outputs": [],
   "source": [
    "from sklearn.tree import DecisionTreeRegressor"
   ]
  },
  {
   "cell_type": "code",
   "execution_count": 95,
   "metadata": {},
   "outputs": [
    {
     "data": {
      "text/plain": [
       "DecisionTreeRegressor()"
      ]
     },
     "execution_count": 95,
     "metadata": {},
     "output_type": "execute_result"
    }
   ],
   "source": [
    "tree_regressor = DecisionTreeRegressor()\n",
    "\n",
    "tree_regressor.fit(x_train,y_train)"
   ]
  },
  {
   "cell_type": "code",
   "execution_count": 96,
   "metadata": {},
   "outputs": [],
   "source": [
    "y_predict = tree_regressor.predict(x_test)"
   ]
  },
  {
   "cell_type": "code",
   "execution_count": 97,
   "metadata": {},
   "outputs": [
    {
     "name": "stdout",
     "output_type": "stream",
     "text": [
      "5.3372222222222225\n"
     ]
    }
   ],
   "source": [
    "print(mean_absolute_error(y_predict,y_test))"
   ]
  },
  {
   "cell_type": "code",
   "execution_count": 98,
   "metadata": {},
   "outputs": [],
   "source": [
    "from sklearn import tree"
   ]
  },
  {
   "cell_type": "code",
   "execution_count": 99,
   "metadata": {},
   "outputs": [
    {
     "data": {
      "text/plain": [
       "[Text(579.7231657608695, 526.6125000000001, 'X[0] <= 4.505\\nmse = 80.826\\nsamples = 163\\nvalue = 20.121'),\n",
       " Text(383.7724184782609, 492.63750000000005, 'X[0] <= 2.695\\nmse = 51.761\\nsamples = 141\\nvalue = 18.057'),\n",
       " Text(221.9701086956522, 458.6625, 'X[1] <= 2.5\\nmse = 40.386\\nsamples = 75\\nvalue = 15.103'),\n",
       " Text(143.375, 424.6875, 'X[5] <= 0.5\\nmse = 19.279\\nsamples = 63\\nvalue = 13.614'),\n",
       " Text(83.22826086956522, 390.7125, 'X[0] <= 1.005\\nmse = 9.593\\nsamples = 44\\nvalue = 12.896'),\n",
       " Text(77.83695652173913, 356.7375, 'mse = 0.0\\nsamples = 1\\nvalue = 5.75'),\n",
       " Text(88.6195652173913, 356.7375, 'X[0] <= 2.015\\nmse = 8.601\\nsamples = 43\\nvalue = 13.062'),\n",
       " Text(34.369565217391305, 322.76250000000005, 'X[0] <= 1.13\\nmse = 7.946\\nsamples = 30\\nvalue = 12.481'),\n",
       " Text(28.97826086956522, 288.7875, 'mse = 0.0\\nsamples = 1\\nvalue = 16.99'),\n",
       " Text(39.76086956521739, 288.7875, 'X[0] <= 1.49\\nmse = 7.494\\nsamples = 29\\nvalue = 12.326'),\n",
       " Text(16.17391304347826, 254.8125, 'X[6] <= 0.5\\nmse = 0.302\\nsamples = 3\\nvalue = 8.903'),\n",
       " Text(10.782608695652174, 220.83750000000003, 'X[2] <= 0.5\\nmse = 0.0\\nsamples = 2\\nvalue = 8.515'),\n",
       " Text(5.391304347826087, 186.8625, 'mse = 0.0\\nsamples = 1\\nvalue = 8.52'),\n",
       " Text(16.17391304347826, 186.8625, 'mse = -0.0\\nsamples = 1\\nvalue = 8.51'),\n",
       " Text(21.565217391304348, 220.83750000000003, 'mse = 0.0\\nsamples = 1\\nvalue = 9.68'),\n",
       " Text(63.34782608695652, 254.8125, 'X[2] <= 0.5\\nmse = 6.817\\nsamples = 26\\nvalue = 12.72'),\n",
       " Text(32.34782608695652, 220.83750000000003, 'X[1] <= 1.5\\nmse = 9.165\\nsamples = 14\\nvalue = 13.539'),\n",
       " Text(26.956521739130434, 186.8625, 'mse = 0.0\\nsamples = 1\\nvalue = 8.58'),\n",
       " Text(37.73913043478261, 186.8625, 'X[0] <= 1.53\\nmse = 7.833\\nsamples = 13\\nvalue = 13.92'),\n",
       " Text(24.26086956521739, 152.8875, 'X[7] <= 0.5\\nmse = 7.305\\nsamples = 3\\nvalue = 15.743'),\n",
       " Text(18.869565217391305, 118.91250000000002, 'mse = 0.0\\nsamples = 1\\nvalue = 19.08'),\n",
       " Text(29.652173913043477, 118.91250000000002, 'X[3] <= 0.5\\nmse = 2.608\\nsamples = 2\\nvalue = 14.075'),\n",
       " Text(24.26086956521739, 84.9375, 'mse = 0.0\\nsamples = 1\\nvalue = 15.69'),\n",
       " Text(35.04347826086956, 84.9375, 'mse = 0.0\\nsamples = 1\\nvalue = 12.46'),\n",
       " Text(51.21739130434783, 152.8875, 'X[0] <= 1.565\\nmse = 6.694\\nsamples = 10\\nvalue = 13.373'),\n",
       " Text(45.82608695652174, 118.91250000000002, 'mse = 0.0\\nsamples = 1\\nvalue = 9.94'),\n",
       " Text(56.608695652173914, 118.91250000000002, 'X[0] <= 1.98\\nmse = 5.983\\nsamples = 9\\nvalue = 13.754'),\n",
       " Text(45.82608695652174, 84.9375, 'X[4] <= 0.5\\nmse = 0.752\\nsamples = 3\\nvalue = 14.627'),\n",
       " Text(40.43478260869565, 50.96249999999998, 'X[0] <= 1.765\\nmse = 0.036\\nsamples = 2\\nvalue = 15.23'),\n",
       " Text(35.04347826086956, 16.987499999999955, 'mse = 0.0\\nsamples = 1\\nvalue = 15.42'),\n",
       " Text(45.82608695652174, 16.987499999999955, 'mse = -0.0\\nsamples = 1\\nvalue = 15.04'),\n",
       " Text(51.21739130434783, 50.96249999999998, 'mse = -0.0\\nsamples = 1\\nvalue = 13.42'),\n",
       " Text(67.3913043478261, 84.9375, 'X[3] <= 0.5\\nmse = 8.028\\nsamples = 6\\nvalue = 13.318'),\n",
       " Text(62.0, 50.96249999999998, 'mse = 1.55\\nsamples = 2\\nvalue = 14.755'),\n",
       " Text(72.78260869565217, 50.96249999999998, 'X[6] <= 0.5\\nmse = 9.719\\nsamples = 4\\nvalue = 12.6'),\n",
       " Text(67.3913043478261, 16.987499999999955, 'mse = 17.808\\nsamples = 2\\nvalue = 11.73'),\n",
       " Text(78.17391304347827, 16.987499999999955, 'mse = 0.116\\nsamples = 2\\nvalue = 13.47'),\n",
       " Text(94.34782608695652, 220.83750000000003, 'X[0] <= 1.565\\nmse = 2.386\\nsamples = 12\\nvalue = 11.766'),\n",
       " Text(88.95652173913044, 186.8625, 'mse = 1.988\\nsamples = 2\\nvalue = 9.76'),\n",
       " Text(99.73913043478261, 186.8625, 'X[4] <= 0.5\\nmse = 1.5\\nsamples = 10\\nvalue = 12.167'),\n",
       " Text(94.34782608695652, 152.8875, 'X[3] <= 0.5\\nmse = 1.134\\nsamples = 9\\nvalue = 12.398'),\n",
       " Text(83.56521739130434, 118.91250000000002, 'X[0] <= 2.005\\nmse = 0.017\\nsamples = 2\\nvalue = 12.87'),\n",
       " Text(78.17391304347827, 84.9375, 'mse = 0.0\\nsamples = 1\\nvalue = 13.0'),\n",
       " Text(88.95652173913044, 84.9375, 'mse = -0.0\\nsamples = 1\\nvalue = 12.74'),\n",
       " Text(105.13043478260869, 118.91250000000002, 'X[0] <= 1.9\\nmse = 1.371\\nsamples = 7\\nvalue = 12.263'),\n",
       " Text(99.73913043478261, 84.9375, 'X[0] <= 1.655\\nmse = 0.411\\nsamples = 3\\nvalue = 12.573'),\n",
       " Text(94.34782608695652, 50.96249999999998, 'mse = 0.0\\nsamples = 1\\nvalue = 11.87'),\n",
       " Text(105.13043478260869, 50.96249999999998, 'X[0] <= 1.74\\nmse = 0.245\\nsamples = 2\\nvalue = 12.925'),\n",
       " Text(99.73913043478261, 16.987499999999955, 'mse = 0.0\\nsamples = 1\\nvalue = 13.42'),\n",
       " Text(110.52173913043478, 16.987499999999955, 'mse = -0.0\\nsamples = 1\\nvalue = 12.43'),\n",
       " Text(110.52173913043478, 84.9375, 'mse = 1.965\\nsamples = 4\\nvalue = 12.03'),\n",
       " Text(105.13043478260869, 152.8875, 'mse = 0.0\\nsamples = 1\\nvalue = 10.09'),\n",
       " Text(142.8695652173913, 322.76250000000005, 'X[0] <= 2.4\\nmse = 7.534\\nsamples = 13\\nvalue = 14.404'),\n",
       " Text(126.69565217391305, 288.7875, 'X[7] <= 0.5\\nmse = 9.422\\nsamples = 4\\nvalue = 16.208'),\n",
       " Text(121.30434782608695, 254.8125, 'X[4] <= 0.5\\nmse = 3.351\\nsamples = 3\\nvalue = 14.69'),\n",
       " Text(115.91304347826087, 220.83750000000003, 'X[3] <= 0.5\\nmse = 0.226\\nsamples = 2\\nvalue = 15.955'),\n",
       " Text(110.52173913043478, 186.8625, 'mse = 0.0\\nsamples = 1\\nvalue = 15.48'),\n",
       " Text(121.30434782608695, 186.8625, 'mse = 0.0\\nsamples = 1\\nvalue = 16.43'),\n",
       " Text(126.69565217391305, 220.83750000000003, 'mse = 0.0\\nsamples = 1\\nvalue = 12.16'),\n",
       " Text(132.08695652173913, 254.8125, 'mse = -0.0\\nsamples = 1\\nvalue = 20.76'),\n",
       " Text(159.04347826086956, 288.7875, 'X[0] <= 2.57\\nmse = 4.607\\nsamples = 9\\nvalue = 13.602'),\n",
       " Text(148.26086956521738, 254.8125, 'X[0] <= 2.52\\nmse = 4.097\\nsamples = 7\\nvalue = 14.106'),\n",
       " Text(142.8695652173913, 220.83750000000003, 'X[7] <= 0.5\\nmse = 2.592\\nsamples = 6\\nvalue = 13.547'),\n",
       " Text(132.08695652173913, 186.8625, 'X[2] <= 0.5\\nmse = 1.145\\nsamples = 2\\nvalue = 15.33'),\n",
       " Text(126.69565217391305, 152.8875, 'mse = 0.0\\nsamples = 1\\nvalue = 14.26'),\n",
       " Text(137.47826086956522, 152.8875, 'mse = 0.0\\nsamples = 1\\nvalue = 16.4'),\n",
       " Text(153.65217391304347, 186.8625, 'X[6] <= 0.5\\nmse = 0.93\\nsamples = 4\\nvalue = 12.655'),\n",
       " Text(148.26086956521738, 152.8875, 'mse = 0.0\\nsamples = 1\\nvalue = 11.35'),\n",
       " Text(159.04347826086956, 152.8875, 'mse = 0.483\\nsamples = 3\\nvalue = 13.09'),\n",
       " Text(153.65217391304347, 220.83750000000003, 'mse = -0.0\\nsamples = 1\\nvalue = 17.46'),\n",
       " Text(169.82608695652175, 254.8125, 'X[0] <= 2.605\\nmse = 2.403\\nsamples = 2\\nvalue = 11.84'),\n",
       " Text(164.43478260869566, 220.83750000000003, 'mse = 0.0\\nsamples = 1\\nvalue = 10.29'),\n",
       " Text(175.2173913043478, 220.83750000000003, 'mse = 0.0\\nsamples = 1\\nvalue = 13.39'),\n",
       " Text(203.52173913043478, 390.7125, 'X[0] <= 1.21\\nmse = 37.751\\nsamples = 19\\nvalue = 15.276'),\n",
       " Text(180.6086956521739, 356.7375, 'X[0] <= 1.135\\nmse = 89.616\\nsamples = 3\\nvalue = 19.443'),\n",
       " Text(175.2173913043478, 322.76250000000005, 'X[0] <= 1.05\\nmse = 0.022\\nsamples = 2\\nvalue = 12.75'),\n",
       " Text(169.82608695652175, 288.7875, 'mse = 0.0\\nsamples = 1\\nvalue = 12.6'),\n",
       " Text(180.6086956521739, 288.7875, 'mse = -0.0\\nsamples = 1\\nvalue = 12.9'),\n",
       " Text(186.0, 322.76250000000005, 'mse = 0.0\\nsamples = 1\\nvalue = 32.83'),\n",
       " Text(226.43478260869566, 356.7375, 'X[2] <= 0.5\\nmse = 24.16\\nsamples = 16\\nvalue = 14.495'),\n",
       " Text(202.17391304347825, 322.76250000000005, 'X[0] <= 1.57\\nmse = 2.359\\nsamples = 9\\nvalue = 12.352'),\n",
       " Text(191.3913043478261, 288.7875, 'X[3] <= 0.5\\nmse = 0.578\\nsamples = 2\\nvalue = 10.83'),\n",
       " Text(186.0, 254.8125, 'mse = 0.0\\nsamples = 1\\nvalue = 11.59'),\n",
       " Text(196.7826086956522, 254.8125, 'mse = -0.0\\nsamples = 1\\nvalue = 10.07'),\n",
       " Text(212.95652173913044, 288.7875, 'X[0] <= 1.7\\nmse = 2.017\\nsamples = 7\\nvalue = 12.787'),\n",
       " Text(207.56521739130434, 254.8125, 'mse = 0.0\\nsamples = 1\\nvalue = 15.36'),\n",
       " Text(218.34782608695653, 254.8125, 'X[0] <= 1.99\\nmse = 1.066\\nsamples = 6\\nvalue = 12.358'),\n",
       " Text(207.56521739130434, 220.83750000000003, 'X[3] <= 0.5\\nmse = 0.184\\nsamples = 3\\nvalue = 11.427'),\n",
       " Text(202.17391304347825, 186.8625, 'X[0] <= 1.87\\nmse = 0.012\\nsamples = 2\\nvalue = 11.13'),\n",
       " Text(196.7826086956522, 152.8875, 'mse = 0.0\\nsamples = 1\\nvalue = 11.24'),\n",
       " Text(207.56521739130434, 152.8875, 'mse = 0.0\\nsamples = 1\\nvalue = 11.02'),\n",
       " Text(212.95652173913044, 186.8625, 'mse = -0.0\\nsamples = 1\\nvalue = 12.02'),\n",
       " Text(229.1304347826087, 220.83750000000003, 'X[3] <= 0.5\\nmse = 0.212\\nsamples = 3\\nvalue = 13.29'),\n",
       " Text(223.7391304347826, 186.8625, 'mse = 0.0\\nsamples = 1\\nvalue = 13.81'),\n",
       " Text(234.52173913043478, 186.8625, 'mse = 0.116\\nsamples = 2\\nvalue = 13.03'),\n",
       " Text(250.69565217391303, 322.76250000000005, 'X[0] <= 1.75\\nmse = 38.697\\nsamples = 7\\nvalue = 17.25'),\n",
       " Text(245.30434782608697, 288.7875, 'mse = 0.0\\nsamples = 1\\nvalue = 26.41'),\n",
       " Text(256.0869565217391, 288.7875, 'X[0] <= 2.1\\nmse = 28.831\\nsamples = 6\\nvalue = 15.723'),\n",
       " Text(250.69565217391303, 254.8125, 'mse = 68.476\\nsamples = 2\\nvalue = 18.905'),\n",
       " Text(261.4782608695652, 254.8125, 'X[3] <= 0.5\\nmse = 1.417\\nsamples = 4\\nvalue = 14.132'),\n",
       " Text(250.69565217391303, 220.83750000000003, 'X[0] <= 2.365\\nmse = 0.065\\nsamples = 2\\nvalue = 13.015'),\n",
       " Text(245.30434782608697, 186.8625, 'mse = 0.0\\nsamples = 1\\nvalue = 12.76'),\n",
       " Text(256.0869565217391, 186.8625, 'mse = -0.0\\nsamples = 1\\nvalue = 13.27'),\n",
       " Text(272.2608695652174, 220.83750000000003, 'X[0] <= 2.215\\nmse = 0.27\\nsamples = 2\\nvalue = 15.25'),\n",
       " Text(266.8695652173913, 186.8625, 'mse = 0.0\\nsamples = 1\\nvalue = 14.73'),\n",
       " Text(277.6521739130435, 186.8625, 'mse = 0.0\\nsamples = 1\\nvalue = 15.77'),\n",
       " Text(300.5652173913044, 424.6875, 'X[3] <= 0.5\\nmse = 78.453\\nsamples = 12\\nvalue = 22.92'),\n",
       " Text(283.04347826086956, 390.7125, 'X[0] <= 2.25\\nmse = 55.273\\nsamples = 4\\nvalue = 32.207'),\n",
       " Text(277.6521739130435, 356.7375, 'X[1] <= 4.5\\nmse = 8.707\\nsamples = 3\\nvalue = 28.177'),\n",
       " Text(272.2608695652174, 322.76250000000005, 'X[1] <= 3.5\\nmse = 9.151\\nsamples = 2\\nvalue = 27.035'),\n",
       " Text(266.8695652173913, 288.7875, 'mse = 0.0\\nsamples = 1\\nvalue = 30.06'),\n",
       " Text(277.6521739130435, 288.7875, 'mse = 0.0\\nsamples = 1\\nvalue = 24.01'),\n",
       " Text(283.04347826086956, 322.76250000000005, 'mse = 0.0\\nsamples = 1\\nvalue = 30.46'),\n",
       " Text(288.4347826086956, 356.7375, 'mse = 0.0\\nsamples = 1\\nvalue = 44.3'),\n",
       " Text(318.0869565217391, 390.7125, 'X[0] <= 2.025\\nmse = 25.349\\nsamples = 8\\nvalue = 18.276'),\n",
       " Text(299.2173913043478, 356.7375, 'X[0] <= 1.83\\nmse = 7.79\\nsamples = 3\\nvalue = 14.287'),\n",
       " Text(293.82608695652175, 322.76250000000005, 'mse = 0.0\\nsamples = 1\\nvalue = 10.34'),\n",
       " Text(304.60869565217394, 322.76250000000005, 'X[5] <= 0.5\\nmse = 0.002\\nsamples = 2\\nvalue = 16.26'),\n",
       " Text(299.2173913043478, 288.7875, 'mse = 0.0\\nsamples = 1\\nvalue = 16.21'),\n",
       " Text(310.0, 288.7875, 'mse = 0.0\\nsamples = 1\\nvalue = 16.31'),\n",
       " Text(336.95652173913044, 356.7375, 'X[5] <= 0.5\\nmse = 20.605\\nsamples = 5\\nvalue = 20.67'),\n",
       " Text(326.17391304347825, 322.76250000000005, 'X[0] <= 2.115\\nmse = 8.208\\nsamples = 2\\nvalue = 25.685'),\n",
       " Text(320.7826086956522, 288.7875, 'mse = 0.0\\nsamples = 1\\nvalue = 28.55'),\n",
       " Text(331.5652173913044, 288.7875, 'mse = -0.0\\nsamples = 1\\nvalue = 22.82'),\n",
       " Text(347.7391304347826, 322.76250000000005, 'X[0] <= 2.37\\nmse = 0.924\\nsamples = 3\\nvalue = 17.327'),\n",
       " Text(342.3478260869565, 288.7875, 'mse = 0.0\\nsamples = 1\\nvalue = 16.04'),\n",
       " Text(353.1304347826087, 288.7875, 'X[1] <= 3.5\\nmse = 0.144\\nsamples = 2\\nvalue = 17.97'),\n",
       " Text(347.7391304347826, 254.8125, 'mse = 0.0\\nsamples = 1\\nvalue = 17.59'),\n",
       " Text(358.52173913043475, 254.8125, 'mse = 0.0\\nsamples = 1\\nvalue = 18.35'),\n",
       " Text(545.5747282608695, 458.6625, 'X[3] <= 0.5\\nmse = 43.509\\nsamples = 66\\nvalue = 21.413'),\n",
       " Text(456.9130434782609, 424.6875, 'X[0] <= 3.655\\nmse = 72.341\\nsamples = 29\\nvalue = 23.483'),\n",
       " Text(412.4347826086956, 390.7125, 'X[2] <= 0.5\\nmse = 83.1\\nsamples = 19\\nvalue = 26.013'),\n",
       " Text(390.8695652173913, 356.7375, 'X[6] <= 0.5\\nmse = 90.577\\nsamples = 11\\nvalue = 29.742'),\n",
       " Text(380.0869565217391, 322.76250000000005, 'X[1] <= 3.0\\nmse = 62.45\\nsamples = 6\\nvalue = 23.647'),\n",
       " Text(374.69565217391306, 288.7875, 'X[4] <= 0.5\\nmse = 20.339\\nsamples = 5\\nvalue = 20.63'),\n",
       " Text(369.30434782608694, 254.8125, 'X[0] <= 3.12\\nmse = 2.215\\nsamples = 3\\nvalue = 17.723'),\n",
       " Text(363.9130434782609, 220.83750000000003, 'X[5] <= 0.5\\nmse = 0.578\\nsamples = 2\\nvalue = 18.68'),\n",
       " Text(358.52173913043475, 186.8625, 'mse = 0.0\\nsamples = 1\\nvalue = 19.44'),\n",
       " Text(369.30434782608694, 186.8625, 'mse = 0.0\\nsamples = 1\\nvalue = 17.92'),\n",
       " Text(374.69565217391306, 220.83750000000003, 'mse = -0.0\\nsamples = 1\\nvalue = 15.81'),\n",
       " Text(380.0869565217391, 254.8125, 'mse = 15.84\\nsamples = 2\\nvalue = 24.99'),\n",
       " Text(385.4782608695652, 288.7875, 'mse = 0.0\\nsamples = 1\\nvalue = 38.73'),\n",
       " Text(401.6521739130435, 322.76250000000005, 'X[1] <= 2.5\\nmse = 26.252\\nsamples = 5\\nvalue = 37.056'),\n",
       " Text(396.2608695652174, 288.7875, 'X[0] <= 3.055\\nmse = 11.318\\nsamples = 4\\nvalue = 34.982'),\n",
       " Text(390.8695652173913, 254.8125, 'mse = 0.0\\nsamples = 1\\nvalue = 40.55'),\n",
       " Text(401.6521739130435, 254.8125, 'X[0] <= 3.365\\nmse = 1.314\\nsamples = 3\\nvalue = 33.127'),\n",
       " Text(396.2608695652174, 220.83750000000003, 'X[0] <= 3.145\\nmse = 0.276\\nsamples = 2\\nvalue = 32.375'),\n",
       " Text(390.8695652173913, 186.8625, 'mse = 0.0\\nsamples = 1\\nvalue = 32.9'),\n",
       " Text(401.6521739130435, 186.8625, 'mse = 0.0\\nsamples = 1\\nvalue = 31.85'),\n",
       " Text(407.04347826086956, 220.83750000000003, 'mse = 0.0\\nsamples = 1\\nvalue = 34.63'),\n",
       " Text(407.04347826086956, 288.7875, 'mse = 0.0\\nsamples = 1\\nvalue = 45.35'),\n",
       " Text(434.0, 356.7375, 'X[5] <= 0.5\\nmse = 27.416\\nsamples = 8\\nvalue = 20.886'),\n",
       " Text(423.2173913043478, 322.76250000000005, 'X[4] <= 0.5\\nmse = 3.295\\nsamples = 4\\nvalue = 16.388'),\n",
       " Text(417.82608695652175, 288.7875, 'X[7] <= 0.5\\nmse = 0.479\\nsamples = 3\\nvalue = 17.377'),\n",
       " Text(412.4347826086956, 254.8125, 'mse = 0.0\\nsamples = 1\\nvalue = 16.47'),\n",
       " Text(423.2173913043478, 254.8125, 'X[1] <= 2.5\\nmse = 0.102\\nsamples = 2\\nvalue = 17.83'),\n",
       " Text(417.82608695652175, 220.83750000000003, 'mse = 0.0\\nsamples = 1\\nvalue = 17.51'),\n",
       " Text(428.60869565217394, 220.83750000000003, 'mse = 0.0\\nsamples = 1\\nvalue = 18.15'),\n",
       " Text(428.60869565217394, 288.7875, 'mse = -0.0\\nsamples = 1\\nvalue = 13.42'),\n",
       " Text(444.7826086956522, 322.76250000000005, 'X[1] <= 3.0\\nmse = 11.059\\nsamples = 4\\nvalue = 25.385'),\n",
       " Text(439.39130434782606, 288.7875, 'X[0] <= 3.01\\nmse = 4.697\\nsamples = 3\\nvalue = 23.8'),\n",
       " Text(434.0, 254.8125, 'mse = 0.0\\nsamples = 1\\nvalue = 22.12'),\n",
       " Text(444.7826086956522, 254.8125, 'X[0] <= 3.31\\nmse = 4.928\\nsamples = 2\\nvalue = 24.64'),\n",
       " Text(439.39130434782606, 220.83750000000003, 'mse = 0.0\\nsamples = 1\\nvalue = 26.86'),\n",
       " Text(450.17391304347825, 220.83750000000003, 'mse = -0.0\\nsamples = 1\\nvalue = 22.42'),\n",
       " Text(450.17391304347825, 288.7875, 'mse = 0.0\\nsamples = 1\\nvalue = 30.14'),\n",
       " Text(501.39130434782606, 390.7125, 'X[2] <= 0.5\\nmse = 16.619\\nsamples = 10\\nvalue = 18.675'),\n",
       " Text(487.9130434782609, 356.7375, 'X[0] <= 4.175\\nmse = 8.837\\nsamples = 7\\nvalue = 20.146'),\n",
       " Text(482.52173913043475, 322.76250000000005, 'X[1] <= 2.5\\nmse = 5.323\\nsamples = 6\\nvalue = 19.302'),\n",
       " Text(471.7391304347826, 288.7875, 'X[5] <= 0.5\\nmse = 3.202\\nsamples = 3\\nvalue = 17.963'),\n",
       " Text(466.3478260869565, 254.8125, 'X[7] <= 0.5\\nmse = 0.014\\nsamples = 2\\nvalue = 16.7'),\n",
       " Text(460.95652173913044, 220.83750000000003, 'mse = 0.0\\nsamples = 1\\nvalue = 16.58'),\n",
       " Text(471.7391304347826, 220.83750000000003, 'mse = 0.0\\nsamples = 1\\nvalue = 16.82'),\n",
       " Text(477.1304347826087, 254.8125, 'mse = 0.0\\nsamples = 1\\nvalue = 20.49'),\n",
       " Text(493.30434782608694, 288.7875, 'X[6] <= 0.5\\nmse = 3.862\\nsamples = 3\\nvalue = 20.64'),\n",
       " Text(487.9130434782609, 254.8125, 'X[0] <= 3.88\\nmse = 1.254\\nsamples = 2\\nvalue = 19.41'),\n",
       " Text(482.52173913043475, 220.83750000000003, 'mse = 0.0\\nsamples = 1\\nvalue = 18.29'),\n",
       " Text(493.30434782608694, 220.83750000000003, 'mse = 0.0\\nsamples = 1\\nvalue = 20.53'),\n",
       " Text(498.69565217391306, 254.8125, 'mse = 0.0\\nsamples = 1\\nvalue = 23.1'),\n",
       " Text(493.30434782608694, 322.76250000000005, 'mse = -0.0\\nsamples = 1\\nvalue = 25.21'),\n",
       " Text(514.8695652173913, 356.7375, 'X[6] <= 0.5\\nmse = 17.954\\nsamples = 3\\nvalue = 15.243'),\n",
       " Text(509.4782608695652, 322.76250000000005, 'X[4] <= 0.5\\nmse = 3.045\\nsamples = 2\\nvalue = 18.065'),\n",
       " Text(504.0869565217391, 288.7875, 'mse = 0.0\\nsamples = 1\\nvalue = 19.81'),\n",
       " Text(514.8695652173913, 288.7875, 'mse = 0.0\\nsamples = 1\\nvalue = 16.32'),\n",
       " Text(520.2608695652174, 322.76250000000005, 'mse = 0.0\\nsamples = 1\\nvalue = 9.6'),\n",
       " Text(634.2364130434783, 424.6875, 'X[1] <= 3.5\\nmse = 14.921\\nsamples = 37\\nvalue = 19.791'),\n",
       " Text(609.3858695652174, 390.7125, 'X[0] <= 3.45\\nmse = 10.915\\nsamples = 30\\nvalue = 18.77'),\n",
       " Text(581.25, 356.7375, 'X[0] <= 3.35\\nmse = 10.141\\nsamples = 20\\nvalue = 17.997'),\n",
       " Text(557.3260869565217, 322.76250000000005, 'X[0] <= 3.11\\nmse = 8.718\\nsamples = 18\\nvalue = 18.426'),\n",
       " Text(525.6521739130435, 288.7875, 'X[7] <= 0.5\\nmse = 7.621\\nsamples = 13\\nvalue = 17.624'),\n",
       " Text(513.5217391304348, 254.8125, 'X[1] <= 2.5\\nmse = 6.297\\nsamples = 4\\nvalue = 20.042'),\n",
       " Text(508.1304347826087, 220.83750000000003, 'X[0] <= 2.915\\nmse = 1.061\\nsamples = 3\\nvalue = 21.397'),\n",
       " Text(502.7391304347826, 186.8625, 'mse = 0.0\\nsamples = 1\\nvalue = 20.27'),\n",
       " Text(513.5217391304348, 186.8625, 'mse = 0.64\\nsamples = 2\\nvalue = 21.96'),\n",
       " Text(518.9130434782609, 220.83750000000003, 'mse = 0.0\\nsamples = 1\\nvalue = 15.98'),\n",
       " Text(537.7826086956521, 254.8125, 'X[0] <= 2.875\\nmse = 4.454\\nsamples = 9\\nvalue = 16.549'),\n",
       " Text(532.3913043478261, 220.83750000000003, 'mse = 0.0\\nsamples = 1\\nvalue = 20.29'),\n",
       " Text(543.1739130434783, 220.83750000000003, 'X[0] <= 3.01\\nmse = 3.043\\nsamples = 8\\nvalue = 16.081'),\n",
       " Text(524.304347826087, 186.8625, 'X[5] <= 0.5\\nmse = 3.236\\nsamples = 5\\nvalue = 16.59'),\n",
       " Text(513.5217391304348, 152.8875, 'X[6] <= 0.5\\nmse = 0.137\\nsamples = 2\\nvalue = 18.41'),\n",
       " Text(508.1304347826087, 118.91250000000002, 'mse = 0.0\\nsamples = 1\\nvalue = 18.78'),\n",
       " Text(518.9130434782609, 118.91250000000002, 'mse = 0.0\\nsamples = 1\\nvalue = 18.04'),\n",
       " Text(535.0869565217391, 152.8875, 'X[1] <= 2.5\\nmse = 1.621\\nsamples = 3\\nvalue = 15.377'),\n",
       " Text(529.695652173913, 118.91250000000002, 'X[2] <= 0.5\\nmse = 0.281\\nsamples = 2\\nvalue = 14.53'),\n",
       " Text(524.304347826087, 84.9375, 'mse = 0.0\\nsamples = 1\\nvalue = 14.0'),\n",
       " Text(535.0869565217391, 84.9375, 'mse = -0.0\\nsamples = 1\\nvalue = 15.06'),\n",
       " Text(540.4782608695652, 118.91250000000002, 'mse = -0.0\\nsamples = 1\\nvalue = 17.07'),\n",
       " Text(562.0434782608695, 186.8625, 'X[0] <= 3.065\\nmse = 1.571\\nsamples = 3\\nvalue = 15.233'),\n",
       " Text(556.6521739130435, 152.8875, 'X[0] <= 3.04\\nmse = 0.198\\nsamples = 2\\nvalue = 14.385'),\n",
       " Text(551.2608695652174, 118.91250000000002, 'mse = 0.0\\nsamples = 1\\nvalue = 14.83'),\n",
       " Text(562.0434782608695, 118.91250000000002, 'mse = 0.0\\nsamples = 1\\nvalue = 13.94'),\n",
       " Text(567.4347826086956, 152.8875, 'mse = 0.0\\nsamples = 1\\nvalue = 16.93'),\n",
       " Text(589.0, 288.7875, 'X[0] <= 3.29\\nmse = 5.553\\nsamples = 5\\nvalue = 20.51'),\n",
       " Text(583.6086956521739, 254.8125, 'X[4] <= 0.5\\nmse = 3.801\\nsamples = 4\\nvalue = 19.718'),\n",
       " Text(578.2173913043479, 220.83750000000003, 'X[0] <= 3.2\\nmse = 0.981\\nsamples = 3\\nvalue = 18.707'),\n",
       " Text(572.8260869565217, 186.8625, 'mse = 0.0\\nsamples = 1\\nvalue = 20.08'),\n",
       " Text(583.6086956521739, 186.8625, 'X[0] <= 3.26\\nmse = 0.058\\nsamples = 2\\nvalue = 18.02'),\n",
       " Text(578.2173913043479, 152.8875, 'mse = 0.0\\nsamples = 1\\nvalue = 18.26'),\n",
       " Text(589.0, 152.8875, 'mse = -0.0\\nsamples = 1\\nvalue = 17.78'),\n",
       " Text(589.0, 220.83750000000003, 'mse = 0.0\\nsamples = 1\\nvalue = 22.75'),\n",
       " Text(594.3913043478261, 254.8125, 'mse = 0.0\\nsamples = 1\\nvalue = 23.68'),\n",
       " Text(605.1739130434783, 322.76250000000005, 'X[7] <= 0.5\\nmse = 6.376\\nsamples = 2\\nvalue = 14.135'),\n",
       " Text(599.7826086956521, 288.7875, 'mse = 0.0\\nsamples = 1\\nvalue = 16.66'),\n",
       " Text(610.5652173913044, 288.7875, 'mse = 0.0\\nsamples = 1\\nvalue = 11.61'),\n",
       " Text(637.5217391304348, 356.7375, 'X[7] <= 0.5\\nmse = 8.874\\nsamples = 10\\nvalue = 20.317'),\n",
       " Text(626.7391304347826, 322.76250000000005, 'X[2] <= 0.5\\nmse = 0.164\\nsamples = 2\\nvalue = 17.875'),\n",
       " Text(621.3478260869565, 288.7875, 'mse = 0.0\\nsamples = 1\\nvalue = 18.28'),\n",
       " Text(632.1304347826087, 288.7875, 'mse = 0.0\\nsamples = 1\\nvalue = 17.47'),\n",
       " Text(648.304347826087, 322.76250000000005, 'X[2] <= 0.5\\nmse = 9.188\\nsamples = 8\\nvalue = 20.928'),\n",
       " Text(642.9130434782609, 288.7875, 'X[0] <= 3.655\\nmse = 6.766\\nsamples = 7\\nvalue = 20.244'),\n",
       " Text(632.1304347826087, 254.8125, 'X[0] <= 3.55\\nmse = 1.551\\nsamples = 3\\nvalue = 22.52'),\n",
       " Text(626.7391304347826, 220.83750000000003, 'X[6] <= 0.5\\nmse = 0.548\\nsamples = 2\\nvalue = 21.75'),\n",
       " Text(621.3478260869565, 186.8625, 'mse = 0.0\\nsamples = 1\\nvalue = 22.49'),\n",
       " Text(632.1304347826087, 186.8625, 'mse = 0.0\\nsamples = 1\\nvalue = 21.01'),\n",
       " Text(637.5217391304348, 220.83750000000003, 'mse = -0.0\\nsamples = 1\\nvalue = 24.06'),\n",
       " Text(653.695652173913, 254.8125, 'X[0] <= 4.19\\nmse = 3.881\\nsamples = 4\\nvalue = 18.537'),\n",
       " Text(648.304347826087, 220.83750000000003, 'X[1] <= 2.5\\nmse = 0.729\\nsamples = 3\\nvalue = 17.483'),\n",
       " Text(642.9130434782609, 186.8625, 'X[0] <= 3.92\\nmse = 0.026\\nsamples = 2\\nvalue = 18.08'),\n",
       " Text(637.5217391304348, 152.8875, 'mse = 0.0\\nsamples = 1\\nvalue = 18.24'),\n",
       " Text(648.304347826087, 152.8875, 'mse = 0.0\\nsamples = 1\\nvalue = 17.92'),\n",
       " Text(653.695652173913, 186.8625, 'mse = 0.0\\nsamples = 1\\nvalue = 16.29'),\n",
       " Text(659.0869565217391, 220.83750000000003, 'mse = 0.0\\nsamples = 1\\nvalue = 21.7'),\n",
       " Text(653.695652173913, 288.7875, 'mse = -0.0\\nsamples = 1\\nvalue = 25.71'),\n",
       " Text(659.0869565217391, 390.7125, 'X[0] <= 3.06\\nmse = 8.486\\nsamples = 7\\nvalue = 24.166'),\n",
       " Text(653.695652173913, 356.7375, 'mse = 0.0\\nsamples = 1\\nvalue = 18.43'),\n",
       " Text(664.4782608695652, 356.7375, 'X[6] <= 0.5\\nmse = 3.503\\nsamples = 6\\nvalue = 25.122'),\n",
       " Text(659.0869565217391, 322.76250000000005, 'mse = 0.0\\nsamples = 1\\nvalue = 27.2'),\n",
       " Text(669.8695652173913, 322.76250000000005, 'X[0] <= 3.31\\nmse = 3.167\\nsamples = 5\\nvalue = 24.706'),\n",
       " Text(664.4782608695652, 288.7875, 'mse = 0.0\\nsamples = 1\\nvalue = 26.88'),\n",
       " Text(675.2608695652174, 288.7875, 'X[0] <= 3.555\\nmse = 2.482\\nsamples = 4\\nvalue = 24.162'),\n",
       " Text(669.8695652173913, 254.8125, 'mse = 0.0\\nsamples = 1\\nvalue = 21.5'),\n",
       " Text(680.6521739130435, 254.8125, 'X[0] <= 4.045\\nmse = 0.158\\nsamples = 3\\nvalue = 25.05'),\n",
       " Text(675.2608695652174, 220.83750000000003, 'X[0] <= 3.68\\nmse = 0.042\\nsamples = 2\\nvalue = 24.795'),\n",
       " Text(669.8695652173913, 186.8625, 'mse = 0.0\\nsamples = 1\\nvalue = 24.59'),\n",
       " Text(680.6521739130435, 186.8625, 'mse = -0.0\\nsamples = 1\\nvalue = 25.0'),\n",
       " Text(686.0434782608695, 220.83750000000003, 'mse = -0.0\\nsamples = 1\\nvalue = 25.56'),\n",
       " Text(775.6739130434783, 492.63750000000005, 'X[0] <= 6.715\\nmse = 64.714\\nsamples = 22\\nvalue = 33.353'),\n",
       " Text(735.9130434782609, 458.6625, 'X[0] <= 4.865\\nmse = 26.487\\nsamples = 18\\nvalue = 30.385'),\n",
       " Text(713.0, 424.6875, 'X[2] <= 0.5\\nmse = 4.709\\nsamples = 2\\nvalue = 38.0'),\n",
       " Text(707.6086956521739, 390.7125, 'mse = 0.0\\nsamples = 1\\nvalue = 40.17'),\n",
       " Text(718.3913043478261, 390.7125, 'mse = 0.0\\nsamples = 1\\nvalue = 35.83'),\n",
       " Text(758.8260869565217, 424.6875, 'X[2] <= 0.5\\nmse = 21.055\\nsamples = 16\\nvalue = 29.433'),\n",
       " Text(729.1739130434783, 390.7125, 'X[6] <= 0.5\\nmse = 20.214\\nsamples = 11\\nvalue = 28.255'),\n",
       " Text(713.0, 356.7375, 'X[1] <= 4.5\\nmse = 11.084\\nsamples = 5\\nvalue = 30.398'),\n",
       " Text(707.6086956521739, 322.76250000000005, 'X[0] <= 5.425\\nmse = 9.097\\nsamples = 4\\nvalue = 29.422'),\n",
       " Text(696.8260869565217, 288.7875, 'X[5] <= 0.5\\nmse = 0.497\\nsamples = 2\\nvalue = 31.975'),\n",
       " Text(691.4347826086956, 254.8125, 'mse = 0.0\\nsamples = 1\\nvalue = 32.68'),\n",
       " Text(702.2173913043479, 254.8125, 'mse = -0.0\\nsamples = 1\\nvalue = 31.27'),\n",
       " Text(718.3913043478261, 288.7875, 'X[5] <= 0.5\\nmse = 4.666\\nsamples = 2\\nvalue = 26.87'),\n",
       " Text(713.0, 254.8125, 'mse = 0.0\\nsamples = 1\\nvalue = 24.71'),\n",
       " Text(723.7826086956521, 254.8125, 'mse = 0.0\\nsamples = 1\\nvalue = 29.03'),\n",
       " Text(718.3913043478261, 322.76250000000005, 'mse = 0.0\\nsamples = 1\\nvalue = 34.3'),\n",
       " Text(745.3478260869565, 356.7375, 'X[0] <= 5.035\\nmse = 20.81\\nsamples = 6\\nvalue = 26.47'),\n",
       " Text(734.5652173913044, 322.76250000000005, 'X[1] <= 3.5\\nmse = 0.593\\nsamples = 2\\nvalue = 21.46'),\n",
       " Text(729.1739130434783, 288.7875, 'mse = 0.0\\nsamples = 1\\nvalue = 22.23'),\n",
       " Text(739.9565217391304, 288.7875, 'mse = -0.0\\nsamples = 1\\nvalue = 20.69'),\n",
       " Text(756.1304347826087, 322.76250000000005, 'X[0] <= 6.25\\nmse = 12.093\\nsamples = 4\\nvalue = 28.975'),\n",
       " Text(750.7391304347826, 288.7875, 'X[0] <= 5.8\\nmse = 1.147\\nsamples = 3\\nvalue = 30.91'),\n",
       " Text(745.3478260869565, 254.8125, 'X[0] <= 5.335\\nmse = 0.055\\nsamples = 2\\nvalue = 30.165'),\n",
       " Text(739.9565217391304, 220.83750000000003, 'mse = 0.0\\nsamples = 1\\nvalue = 29.93'),\n",
       " Text(750.7391304347826, 220.83750000000003, 'mse = 0.0\\nsamples = 1\\nvalue = 30.4'),\n",
       " Text(756.1304347826087, 254.8125, 'mse = 0.0\\nsamples = 1\\nvalue = 32.4'),\n",
       " Text(761.5217391304348, 288.7875, 'mse = -0.0\\nsamples = 1\\nvalue = 23.17'),\n",
       " Text(788.4782608695652, 390.7125, 'X[1] <= 5.0\\nmse = 13.14\\nsamples = 5\\nvalue = 32.024'),\n",
       " Text(783.0869565217391, 356.7375, 'X[0] <= 5.85\\nmse = 8.694\\nsamples = 4\\nvalue = 33.268'),\n",
       " Text(777.695652173913, 322.76250000000005, 'X[0] <= 5.085\\nmse = 0.043\\nsamples = 3\\nvalue = 34.967'),\n",
       " Text(772.304347826087, 288.7875, 'mse = 0.0\\nsamples = 1\\nvalue = 35.26'),\n",
       " Text(783.0869565217391, 288.7875, 'X[0] <= 5.185\\nmse = 0.0\\nsamples = 2\\nvalue = 34.82'),\n",
       " Text(777.695652173913, 254.8125, 'mse = 0.0\\nsamples = 1\\nvalue = 34.83'),\n",
       " Text(788.4782608695652, 254.8125, 'mse = -0.0\\nsamples = 1\\nvalue = 34.81'),\n",
       " Text(788.4782608695652, 322.76250000000005, 'mse = -0.0\\nsamples = 1\\nvalue = 28.17'),\n",
       " Text(793.8695652173913, 356.7375, 'mse = -0.0\\nsamples = 1\\nvalue = 27.05'),\n",
       " Text(815.4347826086956, 458.6625, 'X[0] <= 8.29\\nmse = 18.753\\nsamples = 4\\nvalue = 46.707'),\n",
       " Text(804.6521739130435, 424.6875, 'X[0] <= 7.155\\nmse = 19.581\\nsamples = 2\\nvalue = 43.845'),\n",
       " Text(799.2608695652174, 390.7125, 'mse = 0.0\\nsamples = 1\\nvalue = 48.27'),\n",
       " Text(810.0434782608695, 390.7125, 'mse = 0.0\\nsamples = 1\\nvalue = 39.42'),\n",
       " Text(826.2173913043479, 424.6875, 'X[3] <= 0.5\\nmse = 1.538\\nsamples = 2\\nvalue = 49.57'),\n",
       " Text(820.8260869565217, 390.7125, 'mse = 0.0\\nsamples = 1\\nvalue = 50.81'),\n",
       " Text(831.6086956521739, 390.7125, 'mse = -0.0\\nsamples = 1\\nvalue = 48.33')]"
      ]
     },
     "execution_count": 99,
     "metadata": {},
     "output_type": "execute_result"
    },
    {
     "data": {
      "image/png": "[encoded data removed]",
      "text/plain": [
       "<Figure size 1080x720 with 1 Axes>"
      ]
     },
     "metadata": {
      "needs_background": "light"
     },
     "output_type": "display_data"
    }
   ],
   "source": [
    "plt.figure(figsize=(15,10))\n",
    "\n",
    "tree.plot_tree(tree_regressor,filled=True)"
   ]
  },
  {
   "cell_type": "code",
   "execution_count": 68,
   "metadata": {},
   "outputs": [],
   "source": [
    "# hyperparameter tunning\n",
    "\n",
    "parameters = {\n",
    "    'criterion' : [\"mse\", \"friedman_mse\", \"mae\", \"poisson\"],\n",
    "    'splitter' : ['best','random'],\n",
    "    'max_depth' : [1,2,3,4,5],\n",
    "    'max_features' : ['auto','sqrt','log2']\n",
    "}"
   ]
  },
  {
   "cell_type": "code",
   "execution_count": 69,
   "metadata": {},
   "outputs": [],
   "source": [
    "from sklearn.model_selection import GridSearchCV"
   ]
  },
  {
   "cell_type": "code",
   "execution_count": 72,
   "metadata": {},
   "outputs": [],
   "source": [
    "tree_regressor = DecisionTreeRegressor()\n",
    "\n",
    "reg = GridSearchCV(tree_regressor, param_grid= parameters, cv=5,scoring='accuracy')"
   ]
  },
  {
   "cell_type": "code",
   "execution_count": 73,
   "metadata": {},
   "outputs": [
    {
     "data": {
      "text/plain": [
       "GridSearchCV(cv=5, estimator=DecisionTreeRegressor(),\n",
       "             param_grid={'criterion': ['mse', 'friedman_mse', 'mae', 'poisson'],\n",
       "                         'max_depth': [1, 2, 3, 4, 5],\n",
       "                         'max_features': ['auto', 'sqrt', 'log2'],\n",
       "                         'splitter': ['best', 'random']},\n",
       "             scoring='accuracy')"
      ]
     },
     "execution_count": 73,
     "metadata": {},
     "output_type": "execute_result"
    }
   ],
   "source": [
    "reg.fit(x_train,y_train)"
   ]
  },
  {
   "cell_type": "code",
   "execution_count": 74,
   "metadata": {},
   "outputs": [
    {
     "data": {
      "text/plain": [
       "{'criterion': 'mse',\n",
       " 'max_depth': 1,\n",
       " 'max_features': 'auto',\n",
       " 'splitter': 'best'}"
      ]
     },
     "execution_count": 74,
     "metadata": {},
     "output_type": "execute_result"
    }
   ],
   "source": [
    "reg.best_params_"
   ]
  },
  {
   "cell_type": "code",
   "execution_count": 78,
   "metadata": {},
   "outputs": [
    {
     "name": "stdout",
     "output_type": "stream",
     "text": [
      "6.031532583518399\n"
     ]
    }
   ],
   "source": [
    "y_pred = reg.predict(x_test)\n",
    "\n",
    "print(mean_absolute_error(y_test,y_pred))"
   ]
  },
  {
   "cell_type": "code",
   "execution_count": null,
   "metadata": {},
   "outputs": [],
   "source": []
  }
 ],
 "metadata": {
  "kernelspec": {
   "display_name": "Python 3",
   "language": "python",
   "name": "python3"
  },
  "language_info": {
   "codemirror_mode": {
    "name": "ipython",
    "version": 3
   },
   "file_extension": ".py",
   "mimetype": "text/x-python",
   "name": "python",
   "nbconvert_exporter": "python",
   "pygments_lexer": "ipython3",
   "version": "3.7.9"
  }
 },
 "nbformat": 4,
 "nbformat_minor": 4
}
